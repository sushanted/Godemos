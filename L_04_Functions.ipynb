{
 "cells": [
  {
   "cell_type": "code",
   "execution_count": 1,
   "id": "9e5843d6-8cb8-4cd3-a381-acd804d12cce",
   "metadata": {},
   "outputs": [],
   "source": [
    "import \"fmt\""
   ]
  },
  {
   "cell_type": "markdown",
   "id": "260febb6-3657-4475-a41e-535c5fba45a5",
   "metadata": {},
   "source": [
    "### Declaration Styles"
   ]
  },
  {
   "cell_type": "markdown",
   "id": "1831768a-109a-472c-a549-a0742952010f",
   "metadata": {},
   "source": [
    "#### Aggregate similar types\n",
    "Following declarations are equivalent"
   ]
  },
  {
   "cell_type": "code",
   "execution_count": 2,
   "id": "5ba5361d-e2e0-4a4f-9103-6b49dacf24f2",
   "metadata": {},
   "outputs": [],
   "source": [
    "func f(a int, b int, c int, s1 string,s2 string){\n",
    "    \n",
    "}"
   ]
  },
  {
   "cell_type": "code",
   "execution_count": 3,
   "id": "788f5883-9d4b-4934-803d-63fe3236ed3c",
   "metadata": {},
   "outputs": [],
   "source": [
    "func f (a,b,c int, s1,s2 string){\n",
    "    \n",
    "}"
   ]
  },
  {
   "cell_type": "markdown",
   "id": "60a90e6d-66c5-464b-8183-413addb2892c",
   "metadata": {},
   "source": [
    "### Unused parameters"
   ]
  },
  {
   "cell_type": "code",
   "execution_count": 4,
   "id": "984de3d7-09f0-4594-9ae2-4d3d9e4bdd8d",
   "metadata": {},
   "outputs": [],
   "source": [
    "func f(used int,_ int){ // second parameter unused, maybe we want to use the pointer to function generically, \n",
    "    //but for our operation only single parameter is sufficient\n",
    "    \n",
    "}"
   ]
  },
  {
   "cell_type": "code",
   "execution_count": 5,
   "id": "1cdb2f3b-b856-44fc-a711-a671e48b557c",
   "metadata": {},
   "outputs": [],
   "source": [
    "func f(int,string) float64{ // both the paramteters are unusewd\n",
    "    return 3.1415\n",
    "}"
   ]
  },
  {
   "cell_type": "code",
   "execution_count": 6,
   "id": "02426a66-fe8d-438d-a2e3-a369f12f4a33",
   "metadata": {},
   "outputs": [
    {
     "ename": "ERROR",
     "evalue": "repl.go:2:13: undefined identifier: same",
     "output_type": "error",
     "traceback": [
      "repl.go:2:13: undefined identifier: same"
     ]
    }
   ],
   "source": [
    "\n",
    "fmt.Println(same(4))"
   ]
  },
  {
   "cell_type": "markdown",
   "id": "272e7896-0717-4490-8568-6bb242ef44ee",
   "metadata": {},
   "source": [
    "### Multiple returns"
   ]
  },
  {
   "cell_type": "code",
   "execution_count": 7,
   "id": "1f255b70-cc72-46ec-a5d5-069e34ce258c",
   "metadata": {},
   "outputs": [
    {
     "name": "stdout",
     "output_type": "stream",
     "text": [
      "3 4\n",
      "sum of digits = 11\n"
     ]
    },
    {
     "data": {
      "text/plain": [
       "19 <nil>"
      ]
     },
     "execution_count": 7,
     "metadata": {},
     "output_type": "execute_result"
    }
   ],
   "source": [
    "func digits(twoDigitNumber int) (int,int){\n",
    "    return twoDigitNumber/10,twoDigitNumber%10\n",
    "}\n",
    "\n",
    "fmt.Println(digits(34))\n",
    "\n",
    "first,second := digits(56)\n",
    "\n",
    "fmt.Printf(\"sum of digits = %d\\n\",first+second)"
   ]
  },
  {
   "cell_type": "markdown",
   "id": "a020a704-b69e-4868-9c3c-9db0c3c4b058",
   "metadata": {},
   "source": [
    "#### Cascaded returns"
   ]
  },
  {
   "cell_type": "code",
   "execution_count": 8,
   "id": "c7c85abd-842d-44a1-b1f9-2c97965cf7c7",
   "metadata": {},
   "outputs": [
    {
     "name": "stdout",
     "output_type": "stream",
     "text": [
      "1 8\n"
     ]
    },
    {
     "data": {
      "text/plain": [
       "4 <nil>"
      ]
     },
     "execution_count": 8,
     "metadata": {},
     "output_type": "execute_result"
    }
   ],
   "source": [
    "func digitsInSum(number int) (int,int){\n",
    "    first,second := digits(number)\n",
    "    return digits(first+second) // collects multiple return values and returns them as multiple values in the same statement\n",
    "}\n",
    "\n",
    "fmt.Println(digitsInSum(99))"
   ]
  },
  {
   "cell_type": "markdown",
   "id": "31fd32b2-8744-4312-bc47-1c15a9ae0da6",
   "metadata": {},
   "source": [
    "#### Named return values"
   ]
  },
  {
   "cell_type": "code",
   "execution_count": 9,
   "id": "e6d8bdeb-8c9b-4712-873e-ee3a227bf4dc",
   "metadata": {},
   "outputs": [
    {
     "name": "stdout",
     "output_type": "stream",
     "text": [
      "7 12\n"
     ]
    },
    {
     "data": {
      "text/plain": [
       "5 <nil>"
      ]
     },
     "execution_count": 9,
     "metadata": {},
     "output_type": "execute_result"
    }
   ],
   "source": [
    "func sumProduct(a,b int) (sum int, product int){\n",
    "    return a+b,a*b\n",
    "}\n",
    "\n",
    "fmt.Println(sumProduct(3,4))"
   ]
  },
  {
   "cell_type": "markdown",
   "id": "91a623fb-1c4f-4687-bed3-c305b38df0e9",
   "metadata": {},
   "source": [
    "#### Bare returns"
   ]
  },
  {
   "cell_type": "code",
   "execution_count": 10,
   "id": "a2772bc9-a457-4e98-9a09-7baa7100d516",
   "metadata": {},
   "outputs": [
    {
     "name": "stdout",
     "output_type": "stream",
     "text": [
      "3.142857 false\n",
      "0 true\n",
      "0 true\n"
     ]
    },
    {
     "data": {
      "text/plain": [
       "7 <nil>"
      ]
     },
     "execution_count": 10,
     "metadata": {},
     "output_type": "execute_result"
    }
   ],
   "source": [
    "func div(a,b int) (div float32,undefined bool){\n",
    "    \n",
    "    // default valuse for div = 0 and undefined = false\n",
    "    if(b==0){\n",
    "        undefined = true\n",
    "        return // return whatever current values are there for return types\n",
    "    }\n",
    "    div = float32(a)/float32(b)\n",
    "    return // return whatever current values are there for return types\n",
    "}\n",
    "\n",
    "fmt.Println(div(22,7))\n",
    "fmt.Println(div(3,0))\n",
    "fmt.Println(div(0,0))"
   ]
  },
  {
   "cell_type": "markdown",
   "id": "4a3709b3-4a1a-4ab4-8850-47e419dfac97",
   "metadata": {},
   "source": [
    "### Errors\n",
    "\n",
    "Error handling strategies:\n",
    "\n",
    "1. Add more context to the error returned from called function which is relatable to the input to the current function , and finally return it to the calling function.\n",
    "2. retry the call to the function returning error\n",
    "3. Halt the program completely, in case of fatal problems\n",
    "4. Just log and move on for minor problems\n",
    "5. Ignore the errors completely for errors in non significant actions\n",
    "\n",
    "Flow of GO functions, call the function, first check errors, process them and return in case of failures. Finally handle the successful condition.\n"
   ]
  },
  {
   "cell_type": "markdown",
   "id": "5ab9d732-74ae-4611-a5d9-7486cf62901a",
   "metadata": {},
   "source": [
    "### Function values"
   ]
  },
  {
   "cell_type": "code",
   "execution_count": 11,
   "id": "2e633775-2664-489b-bb6e-54febbf2006c",
   "metadata": {},
   "outputs": [
    {
     "name": "stdout",
     "output_type": "stream",
     "text": [
      "7\n",
      "-1\n",
      "12\n"
     ]
    },
    {
     "data": {
      "text/plain": [
       "3 <nil>"
      ]
     },
     "execution_count": 11,
     "metadata": {},
     "output_type": "execute_result"
    }
   ],
   "source": [
    "func add(a,b int) int{\n",
    "    return a+b\n",
    "}\n",
    "\n",
    "func sub(a,b int) int{\n",
    "    return a-b\n",
    "}\n",
    "\n",
    "func mul(a,b int) int{\n",
    "    return a*b\n",
    "}\n",
    "\n",
    "func neg(a int) int{\n",
    "    return -a\n",
    "}\n",
    "\n",
    "a,b := 3,4\n",
    "\n",
    "fun := add // assign a func to a variable\n",
    "\n",
    "fmt.Println(fun(a,b))\n",
    "\n",
    "fun = sub // reassign\n",
    "\n",
    "fmt.Println(fun(a,b))\n",
    "\n",
    "fun = mul\n",
    "\n",
    "fmt.Println(fun(a,b))\n",
    "\n",
    "// fun = neg // incompatible types in assignment: func(int, int) int = func(int) int"
   ]
  },
  {
   "cell_type": "markdown",
   "id": "ce5f81cf-64b2-4ff9-8a27-2c4476b3e791",
   "metadata": {},
   "source": [
    "#### Declaration of function flag"
   ]
  },
  {
   "cell_type": "code",
   "execution_count": 12,
   "id": "823049e7-229a-4bcb-8b8c-6f61c412fa57",
   "metadata": {},
   "outputs": [],
   "source": [
    "var f func(int) int\n",
    "\n",
    "// f(3) // nil pointer dereference, as the variable is not initialized"
   ]
  },
  {
   "cell_type": "markdown",
   "id": "0eaf0e07-7c70-4053-825e-f799043afa55",
   "metadata": {},
   "source": [
    "#### Parameterized bahaviors"
   ]
  },
  {
   "cell_type": "code",
   "execution_count": 13,
   "id": "bd41cfaa-8813-44a7-8afc-5b6ce5ca8e19",
   "metadata": {},
   "outputs": [
    {
     "name": "stdout",
     "output_type": "stream",
     "text": [
      "9\n",
      "20\n",
      "-1\n"
     ]
    },
    {
     "data": {
      "text/plain": [
       "3 <nil>"
      ]
     },
     "execution_count": 13,
     "metadata": {},
     "output_type": "execute_result"
    }
   ],
   "source": [
    "func operate(a,b int, operation func(int,int) int ) int{\n",
    "    return operation(a,b)\n",
    "}\n",
    "\n",
    "fmt.Println(operate(4,5,add))\n",
    "fmt.Println(operate(4,5,mul))\n",
    "fmt.Println(operate(4,5,sub))"
   ]
  },
  {
   "cell_type": "code",
   "execution_count": 14,
   "id": "dc4fc8ac-e0e9-4667-8dbd-9ac419b88833",
   "metadata": {},
   "outputs": [
    {
     "name": "stdout",
     "output_type": "stream",
     "text": [
      "encrypted\n"
     ]
    },
    {
     "data": {
      "text/plain": [
       "10 <nil>"
      ]
     },
     "execution_count": 14,
     "metadata": {},
     "output_type": "execute_result"
    }
   ],
   "source": [
    "import \"strings\"\n",
    "\n",
    "func add1(a rune)rune{\n",
    "    return a+1\n",
    "}\n",
    "\n",
    "fmt.Println(strings.Map(add1,\"dmbqxosdc\")) // Library function provided with func"
   ]
  },
  {
   "cell_type": "markdown",
   "id": "864d3628-8ee5-4c94-9a37-4bb42ca0c806",
   "metadata": {},
   "source": [
    "#### Anonymous functions"
   ]
  },
  {
   "cell_type": "code",
   "execution_count": 15,
   "id": "450631c9-583f-47d2-93c1-056f0beb4b5a",
   "metadata": {},
   "outputs": [
    {
     "name": "stdout",
     "output_type": "stream",
     "text": [
      "encrypted\n"
     ]
    },
    {
     "data": {
      "text/plain": [
       "10 <nil>"
      ]
     },
     "execution_count": 15,
     "metadata": {},
     "output_type": "execute_result"
    }
   ],
   "source": [
    "fmt.Println(strings.Map(func(r rune) rune {return r + 1},\"dmbqxosdc\" ))\n",
    "\n",
    "// Note that function doesn't have name"
   ]
  },
  {
   "cell_type": "markdown",
   "id": "9dafca25-12b6-4623-ab70-b28b3cdca4a0",
   "metadata": {},
   "source": [
    "##### Nested anonymous functions"
   ]
  },
  {
   "cell_type": "code",
   "execution_count": 16,
   "id": "b3ba064f-6de8-47c9-b56a-32484af6cd22",
   "metadata": {},
   "outputs": [
    {
     "name": "stdout",
     "output_type": "stream",
     "text": [
      "Mr.Suhas\n",
      "Mr.Ashok\n",
      "Ms.Suhas\n",
      "Ms.Komal\n"
     ]
    },
    {
     "data": {
      "text/plain": [
       "9 <nil>"
      ]
     },
     "execution_count": 16,
     "metadata": {},
     "output_type": "execute_result"
    }
   ],
   "source": [
    "func prefixer(pre string) func(string) string{ // pre is captured in the function and used every time\n",
    "    return func(str string) string{\n",
    "        return pre+str\n",
    "    }\n",
    "}\n",
    "\n",
    "mr := prefixer(\"Mr.\")\n",
    "\n",
    "fmt.Println(mr(\"Suhas\"))\n",
    "\n",
    "fmt.Println(mr(\"Ashok\"))\n",
    "\n",
    "ms := prefixer(\"Ms.\")\n",
    "\n",
    "fmt.Println(ms(\"Suhas\"))\n",
    "\n",
    "fmt.Println(ms(\"Komal\"))"
   ]
  },
  {
   "cell_type": "code",
   "execution_count": 17,
   "id": "f3cae6c6-7381-4570-afd9-5cc90084defc",
   "metadata": {},
   "outputs": [
    {
     "name": "stdout",
     "output_type": "stream",
     "text": [
      "invoke time: 1\n",
      "invoke time: 2\n",
      "invoke time: 1\n"
     ]
    },
    {
     "data": {
      "text/plain": [
       "16"
      ]
     },
     "execution_count": 17,
     "metadata": {},
     "output_type": "execute_result"
    }
   ],
   "source": [
    "func callCounter(fun func(int) int) func(int)int{\n",
    "    count := 1 // count is now embedded in the function\n",
    "    return func(num int) int{\n",
    "        fmt.Printf(\"invoke time: %d\\n\",count)\n",
    "        count++\n",
    "        return fun(num)\n",
    "    }\n",
    "      \n",
    "}\n",
    "\n",
    "func square(i int)int{\n",
    "    return i*i\n",
    "}\n",
    "\n",
    "square := callCounter(square) // Decorating the original function with the wrapper\n",
    "\n",
    "square(4)\n",
    "square(5)\n",
    "\n",
    "func double(i int)int{\n",
    "    return i+i\n",
    "}\n",
    "\n",
    "double := callCounter(double) // will get a new count as the callCounter is invoked afresh\n",
    "\n",
    "double(8) "
   ]
  },
  {
   "cell_type": "markdown",
   "id": "8d0756cb-ed74-4b3e-82d9-720fcf786eb9",
   "metadata": {},
   "source": [
    "##### NOTE : because of the hidden variable references, functions are reference types and therefore cannot be compared."
   ]
  },
  {
   "cell_type": "code",
   "execution_count": 18,
   "id": "6946db7a-a88b-411d-803b-52518edbab0b",
   "metadata": {},
   "outputs": [
    {
     "name": "stdout",
     "output_type": "stream",
     "text": [
      "5\n"
     ]
    },
    {
     "data": {
      "text/plain": [
       "2 <nil>"
      ]
     },
     "execution_count": 18,
     "metadata": {},
     "output_type": "execute_result"
    }
   ],
   "source": [
    "func fun(i int) func()int{\n",
    "    retfun := func()int{return i}\n",
    "    i++  // Note : even if i is captured before increment in the retfun, it is captured by its address\n",
    "    // Therefore this increment is reflected in the retfun call \n",
    "    return retfun\n",
    "}\n",
    "\n",
    "fmt.Println(fun(4)()) "
   ]
  },
  {
   "cell_type": "code",
   "execution_count": 19,
   "id": "b4ddb404-b0fd-474a-a0d3-2e4d02b3d3c3",
   "metadata": {},
   "outputs": [
    {
     "name": "stdout",
     "output_type": "stream",
     "text": [
      "100\n",
      "100\n",
      "100\n",
      "100\n",
      "100\n",
      "100\n",
      "100\n",
      "100\n",
      "100\n",
      "100\n"
     ]
    }
   ],
   "source": [
    "func squareProvider() []func()int{\n",
    "    squares := make([]func()int,0,10)\n",
    "    for i:=0;i<10;i++{\n",
    "        squares = append(squares,func()int{return i*i}) // i is captured by address, so changes on each iteration\n",
    "        // and all collected functions get the updated value of i\n",
    "    }\n",
    "    return squares\n",
    "}\n",
    "\n",
    "for _,squarer := range squareProvider(){\n",
    "    fmt.Println(squarer())  \n",
    "}"
   ]
  },
  {
   "cell_type": "code",
   "execution_count": 20,
   "id": "3c096c28-6172-44f4-848e-874dc625369a",
   "metadata": {},
   "outputs": [
    {
     "name": "stdout",
     "output_type": "stream",
     "text": [
      "0\n",
      "1\n",
      "4\n",
      "9\n",
      "16\n",
      "25\n",
      "36\n",
      "49\n",
      "64\n",
      "81\n"
     ]
    }
   ],
   "source": [
    "func perfectSquareProvider() []func()int{\n",
    "    squares := make([]func()int,0,10)\n",
    "    for i:=0;i<10;i++{\n",
    "        currentI := i  // This is IMPORTANT, being a scope level variable, it is created afresh for each iteration of the loop\n",
    "        squares = append(squares,func()int{return currentI*currentI}) // i is captured by address, so changes on each iteration\n",
    "        // and all collected functions get the updated value of i\n",
    "    }\n",
    "    return squares\n",
    "}\n",
    "\n",
    "for _,squarer := range perfectSquareProvider(){\n",
    "    fmt.Println(squarer())  \n",
    "}"
   ]
  },
  {
   "cell_type": "markdown",
   "id": "7ae1243b-9233-4f20-aa6b-590219b265ff",
   "metadata": {},
   "source": [
    "### Variadic functions"
   ]
  },
  {
   "cell_type": "code",
   "execution_count": 21,
   "id": "21d08169-ffd0-4f17-adde-f20244b62e92",
   "metadata": {},
   "outputs": [
    {
     "name": "stdout",
     "output_type": "stream",
     "text": [
      "0\n",
      "1\n",
      "6\n",
      "13\n"
     ]
    },
    {
     "data": {
      "text/plain": [
       "3 <nil>"
      ]
     },
     "execution_count": 21,
     "metadata": {},
     "output_type": "execute_result"
    }
   ],
   "source": [
    "func sum(vals ...int) int{\n",
    "    total := 0\n",
    "    for _,val := range vals{\n",
    "        total+=val\n",
    "    }\n",
    "    return total\n",
    "}\n",
    "\n",
    "fmt.Println(sum())\n",
    "fmt.Println(sum(1))\n",
    "\n",
    "fmt.Println(sum(1,2,3))\n",
    "\n",
    "slice := []int{4,2,7}\n",
    "\n",
    "fmt.Println(sum(slice...)) // passing a slice for a variadic, similar as spread operator"
   ]
  },
  {
   "cell_type": "markdown",
   "id": "2816a01f-9168-433c-af70-00ac85a35bce",
   "metadata": {},
   "source": [
    "### Defer\n",
    "\n",
    "Can be thought as java finally block with function scope"
   ]
  },
  {
   "cell_type": "code",
   "execution_count": 22,
   "id": "dc94106c-93cc-42ea-aa1a-1481bddd7c36",
   "metadata": {},
   "outputs": [
    {
     "name": "stdout",
     "output_type": "stream",
     "text": [
      "At start\n",
      "At end\n",
      "finished\n"
     ]
    }
   ],
   "source": [
    "func withDefer(){\n",
    "    fmt.Println(\"At start\")\n",
    "    defer fmt.Println(\"finished\")\n",
    "    fmt.Println(\"At end\")\n",
    "}\n",
    "\n",
    "withDefer()"
   ]
  },
  {
   "cell_type": "code",
   "execution_count": 23,
   "id": "14c5228e-0cb4-4610-a427-fab0b180a186",
   "metadata": {},
   "outputs": [
    {
     "name": "stdout",
     "output_type": "stream",
     "text": [
      "At start\n",
      "At end\n",
      "finished 3\n",
      "finished 2\n",
      "finished 1\n"
     ]
    }
   ],
   "source": [
    "func withMultiDefer(){\n",
    "    fmt.Println(\"At start\")\n",
    "    // The order is reversed\n",
    "    defer fmt.Println(\"finished 1\")\n",
    "    defer fmt.Println(\"finished 2\")\n",
    "    defer fmt.Println(\"finished 3\")\n",
    "    fmt.Println(\"At end\")\n",
    "}\n",
    "\n",
    "withMultiDefer()\n",
    "\n",
    "// A usecase could be : obtaining a statement from a connection, need to close the statement (which is obtained \n",
    "// after getting the connection) needs to be closed first, then the connection needs to be closed."
   ]
  },
  {
   "cell_type": "markdown",
   "id": "3edfadce-246b-4cfa-b16b-bb9424f56fc3",
   "metadata": {},
   "source": [
    "##### Pairing on-entry and on-exit operations"
   ]
  },
  {
   "cell_type": "code",
   "execution_count": 24,
   "id": "4382f2b0-8fce-440f-9b22-ed36b9319098",
   "metadata": {},
   "outputs": [
    {
     "name": "stdout",
     "output_type": "stream",
     "text": [
      "Execution time: 3.001277728s\n"
     ]
    }
   ],
   "source": [
    "import \"time\"\n",
    "\n",
    "func longOperation(){\n",
    "    defer timeIt()() // timeIt() is evaluated first, and timeIt()() is run as deferred \n",
    "    time.Sleep(3*time.Second)\n",
    "}\n",
    "\n",
    "func timeIt() func(){\n",
    "    start:= time.Now()\n",
    "    return func(){\n",
    "        fmt.Printf(\"Execution time: %s\\n\",time.Since(start))\n",
    "    }\n",
    "}\n",
    "\n",
    "longOperation()"
   ]
  },
  {
   "cell_type": "markdown",
   "id": "633eb8ac-4581-4bb7-b6f1-a7a96b170175",
   "metadata": {},
   "source": [
    "##### Trace input and outputs"
   ]
  },
  {
   "cell_type": "code",
   "execution_count": 25,
   "id": "d8502f04-fbc4-45b3-a14f-214c3290474a",
   "metadata": {},
   "outputs": [
    {
     "name": "stdout",
     "output_type": "stream",
     "text": [
      " 5 is detected as + \n"
     ]
    },
    {
     "data": {
      "text/plain": [
       "+"
      ]
     },
     "execution_count": 25,
     "metadata": {},
     "output_type": "execute_result"
    }
   ],
   "source": [
    "func typeOf(x int) (detectedType string){\n",
    "    \n",
    "    // the named result argument is captured in the function\n",
    "    defer func(){fmt.Printf(\" %d is detected as %s \\n\",x,detectedType)}()\n",
    "    \n",
    "    if(x < 0){\n",
    "        return \"-\"\n",
    "    }else if(x >0){\n",
    "        return \"+\"\n",
    "    }\n",
    "    return \"0\"\n",
    "}\n",
    "\n",
    "typeOf(5)"
   ]
  },
  {
   "cell_type": "markdown",
   "id": "6eb1f625-108e-4d8d-bdde-4ccc05133642",
   "metadata": {},
   "source": [
    "### Panic and Recover"
   ]
  },
  {
   "cell_type": "code",
   "execution_count": 26,
   "id": "7397d8fe-ec2d-4bd0-a266-8eece1fe746a",
   "metadata": {},
   "outputs": [
    {
     "name": "stdout",
     "output_type": "stream",
     "text": [
      "recovered from panic : runtime error: integer divide by zero\n",
      "Normal flow after recovery\n",
      "division 1\n"
     ]
    }
   ],
   "source": [
    "func caller(){\n",
    "    \n",
    "    divideBy(0)\n",
    "    fmt.Println(\"Normal flow after recovery\")\n",
    "    divideBy(5)\n",
    "}\n",
    "\n",
    "func divideBy(z int) int{\n",
    "    \n",
    "    defer func(){\n",
    "        // This is kind of catch block enclosing this function\n",
    "        if p:=recover();p!=nil{\n",
    "            fmt.Println(\"recovered from panic :\",p)\n",
    "        }\n",
    "    }()\n",
    "    ret := 5/z\n",
    "    fmt.Printf(\"division %d\\n\",ret)\n",
    "    return ret\n",
    "}\n",
    "\n",
    "caller()"
   ]
  },
  {
   "cell_type": "code",
   "execution_count": null,
   "id": "bd0254a9-58de-403d-8fab-362b888fc449",
   "metadata": {},
   "outputs": [],
   "source": []
  }
 ],
 "metadata": {
  "kernelspec": {
   "display_name": "Go",
   "language": "go",
   "name": "gophernotes"
  },
  "language_info": {
   "codemirror_mode": "",
   "file_extension": ".go",
   "mimetype": "",
   "name": "go",
   "nbconvert_exporter": "",
   "pygments_lexer": "",
   "version": "go1.15.6"
  }
 },
 "nbformat": 4,
 "nbformat_minor": 5
}
