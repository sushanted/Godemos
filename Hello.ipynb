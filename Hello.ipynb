{
 "cells": [
  {
   "cell_type": "code",
   "execution_count": 1,
   "id": "6d11ed4d-432d-408b-8ab9-e79a94bdf10b",
   "metadata": {},
   "outputs": [],
   "source": [
    "import \"fmt\""
   ]
  },
  {
   "cell_type": "code",
   "execution_count": 3,
   "id": "00646f9d-3765-47d1-a38a-e1185dd8ed51",
   "metadata": {},
   "outputs": [
    {
     "name": "stdout",
     "output_type": "stream",
     "text": [
      "hello world 1\n"
     ]
    },
    {
     "data": {
      "text/plain": [
       "14 <nil>"
      ]
     },
     "execution_count": 3,
     "metadata": {},
     "output_type": "execute_result"
    }
   ],
   "source": [
    "fmt.Println(\"hello world\")"
   ]
  },
  {
   "cell_type": "code",
   "execution_count": null,
   "id": "762c3dc6-373a-4ac8-a82d-e1df18dd258f",
   "metadata": {},
   "outputs": [],
   "source": []
  }
 ],
 "metadata": {
  "kernelspec": {
   "display_name": "Go",
   "language": "go",
   "name": "gophernotes"
  },
  "language_info": {
   "codemirror_mode": "",
   "file_extension": ".go",
   "mimetype": "",
   "name": "go",
   "nbconvert_exporter": "",
   "pygments_lexer": "",
   "version": "go1.15.6"
  }
 },
 "nbformat": 4,
 "nbformat_minor": 5
}
