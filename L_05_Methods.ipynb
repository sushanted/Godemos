{
 "cells": [
  {
   "cell_type": "code",
   "execution_count": 1,
   "id": "2ac61949-7f99-49b0-aab7-7ae02fc8e61a",
   "metadata": {},
   "outputs": [],
   "source": [
    "import \"fmt\""
   ]
  },
  {
   "cell_type": "markdown",
   "id": "a54e6d95-4f68-4734-bda3-4a36391f1f17",
   "metadata": {},
   "source": [
    "### Method declaration and call"
   ]
  },
  {
   "cell_type": "markdown",
   "id": "b71f4177-ea3c-4610-9377-834bce287000",
   "metadata": {},
   "source": [
    "#### Method on a simple type"
   ]
  },
  {
   "cell_type": "code",
   "execution_count": 2,
   "id": "45bb0fb9-56f8-470d-ad48-884126d32685",
   "metadata": {},
   "outputs": [
    {
     "name": "stdout",
     "output_type": "stream",
     "text": [
      "1\n"
     ]
    },
    {
     "data": {
      "text/plain": [
       "2 <nil>"
      ]
     },
     "execution_count": 2,
     "metadata": {},
     "output_type": "execute_result"
    }
   ],
   "source": [
    "\n",
    "\n",
    "type Percent int\n",
    "\n",
    "func (p Percent) toProbabilty() int{\n",
    "    return int(p)/100 \n",
    "}\n",
    "\n",
    "all := Percent(100)\n",
    "\n",
    "fmt.Println(all.toProbabilty())"
   ]
  },
  {
   "cell_type": "markdown",
   "id": "ccadf430-13fe-44a5-b7a9-3d5da3ba9833",
   "metadata": {},
   "source": [
    "#### Method on a slice"
   ]
  },
  {
   "cell_type": "code",
   "execution_count": 3,
   "id": "d8d21735-a357-41cb-a55e-8183db135a06",
   "metadata": {},
   "outputs": [
    {
     "name": "stdout",
     "output_type": "stream",
     "text": [
      "5\n"
     ]
    },
    {
     "data": {
      "text/plain": [
       "2 <nil>"
      ]
     },
     "execution_count": 3,
     "metadata": {},
     "output_type": "execute_result"
    }
   ],
   "source": [
    "import \"math\"\n",
    "\n",
    "type Vector []float64\n",
    "\n",
    "func (v Vector) Length() float64{\n",
    "    sumSquare := 0.0\n",
    "    for _,c := range v{\n",
    "        sumSquare+= c*c\n",
    "    }\n",
    "    return math.Sqrt(sumSquare)\n",
    "}\n",
    "\n",
    "v := Vector{3.0,4.0}\n",
    "\n",
    "fmt.Println(v.Length())"
   ]
  },
  {
   "cell_type": "markdown",
   "id": "bdb5d44a-b8c7-42d7-9430-70196d903d4d",
   "metadata": {},
   "source": [
    "#### Method on a struct"
   ]
  },
  {
   "cell_type": "code",
   "execution_count": 4,
   "id": "8f6b9a37-2a3b-4bbb-a6a4-f3344d812cf4",
   "metadata": {},
   "outputs": [
    {
     "name": "stdout",
     "output_type": "stream",
     "text": [
      "10\n"
     ]
    },
    {
     "data": {
      "text/plain": [
       "3 <nil>"
      ]
     },
     "execution_count": 4,
     "metadata": {},
     "output_type": "execute_result"
    }
   ],
   "source": [
    "type Point struct{X,Y float64}\n",
    "\n",
    "func (p Point) toVector() Vector{\n",
    "    return Vector{p.X,p.Y}\n",
    "}\n",
    "\n",
    "fmt.Println(Point{6,8}.toVector().Length())"
   ]
  },
  {
   "cell_type": "code",
   "execution_count": 5,
   "id": "31dbda1c-6276-4435-96bc-27cb5a5d3932",
   "metadata": {},
   "outputs": [
    {
     "data": {
      "text/plain": [
       "6"
      ]
     },
     "execution_count": 5,
     "metadata": {},
     "output_type": "execute_result"
    }
   ],
   "source": [
    "func (p Point) getX(scale float64) float64{\n",
    "    return p.X*scale\n",
    "}\n",
    "func (p Point) getY(scale float64) float64{\n",
    "    return  p.Y*scale\n",
    "}\n",
    "\n",
    "\n",
    "// Note the function type\n",
    "var pointFun func(Point,float64)float64 = Point.getX\n",
    "\n",
    "pointFun(Point{2,3},3)"
   ]
  },
  {
   "cell_type": "markdown",
   "id": "1dd62455-9990-4359-b3c5-f41cabb8e868",
   "metadata": {},
   "source": [
    "#### Method on a function"
   ]
  },
  {
   "cell_type": "code",
   "execution_count": 6,
   "id": "b015623c-66e0-4b2a-9c5d-defd160ff1dd",
   "metadata": {},
   "outputs": [
    {
     "name": "stdout",
     "output_type": "stream",
     "text": [
      "19 is valid age? true\n",
      "17 is in-valid age? true\n"
     ]
    },
    {
     "data": {
      "text/plain": [
       "25 <nil>"
      ]
     },
     "execution_count": 6,
     "metadata": {},
     "output_type": "execute_result"
    }
   ],
   "source": [
    "type Condition func(number int)bool\n",
    "\n",
    "func (c Condition) AssertTrue(number int)bool{\n",
    "    return c(number)\n",
    "}\n",
    "\n",
    "func (c Condition) AssertFalse(number int)bool{\n",
    "    return !c(number)\n",
    "}\n",
    "\n",
    "validAge := Condition(func(age int)bool{\n",
    "    return age > 18\n",
    "})\n",
    "\n",
    "fmt.Printf(\"19 is valid age? %v\\n\",validAge.AssertTrue(19))\n",
    "fmt.Printf(\"17 is in-valid age? %v\\n\",validAge.AssertFalse(17))"
   ]
  },
  {
   "cell_type": "markdown",
   "id": "00d9f083-49f0-4a9a-9df1-9c3ac8233319",
   "metadata": {},
   "source": [
    "### Methods with pointer receiver"
   ]
  },
  {
   "cell_type": "code",
   "execution_count": 7,
   "id": "d9cd6f69-16f6-4c36-8bfb-e14e05cbeb88",
   "metadata": {},
   "outputs": [
    {
     "name": "stdout",
     "output_type": "stream",
     "text": [
      "{6 8}\n",
      "{12 16}\n",
      "{36 48}\n"
     ]
    },
    {
     "data": {
      "text/plain": [
       "8 <nil>"
      ]
     },
     "execution_count": 7,
     "metadata": {},
     "output_type": "execute_result"
    }
   ],
   "source": [
    "func (p *Point) Scale(factor float64){\n",
    "    p.X *= factor\n",
    "    p.Y *= factor\n",
    "}\n",
    "\n",
    "point := Point{3,4}\n",
    "\n",
    "pointer := &point\n",
    "\n",
    "pointer.Scale(2)\n",
    "\n",
    "fmt.Println(point)\n",
    "\n",
    "(&point).Scale(2)\n",
    "\n",
    "fmt.Println(point)\n",
    "\n",
    "// OR very simple: here compiler does &point conversion implicitly\n",
    "\n",
    "point.Scale(3)\n",
    "\n",
    "fmt.Println(point)\n",
    "\n",
    "// Point{4,5}.scale(7) // This doesn't work because we cannot take address of Point{4,5}"
   ]
  },
  {
   "cell_type": "code",
   "execution_count": 8,
   "id": "6064dd19-3737-4a52-b644-42b1294dd5da",
   "metadata": {},
   "outputs": [
    {
     "name": "stdout",
     "output_type": "stream",
     "text": [
      "2\n",
      "1.3333333333333333\n",
      "1.2\n"
     ]
    },
    {
     "data": {
      "text/plain": [
       "4 <nil>"
      ]
     },
     "execution_count": 8,
     "metadata": {},
     "output_type": "execute_result"
    }
   ],
   "source": [
    "func (p Point) Slope() float64{\n",
    "    return float64(p.Y)/float64(p.X)\n",
    "}\n",
    "\n",
    "fmt.Println(Point{4,8}.Slope())\n",
    "\n",
    "\n",
    "pointer = &Point{3,4}\n",
    "\n",
    "\n",
    "// Compiler does *pointer conversion implicitly\n",
    "fmt.Println(pointer.Slope())\n",
    "\n",
    "fmt.Println((&Point{5,6}).Slope())\n"
   ]
  },
  {
   "cell_type": "markdown",
   "id": "51066df0-3d99-4a77-b349-38f05b602f94",
   "metadata": {},
   "source": [
    "#### Nil as receiver"
   ]
  },
  {
   "cell_type": "code",
   "execution_count": 9,
   "id": "1349423a-aaa8-482b-a268-fac9fa6ce4f8",
   "metadata": {},
   "outputs": [
    {
     "name": "stdout",
     "output_type": "stream",
     "text": [
      "NaN\n"
     ]
    },
    {
     "data": {
      "text/plain": [
       "4 <nil>"
      ]
     },
     "execution_count": 9,
     "metadata": {},
     "output_type": "execute_result"
    }
   ],
   "source": [
    "type Segment struct{\n",
    "    start,end Point\n",
    "}\n",
    "\n",
    "func (s *Segment) Slope() float64{\n",
    "    if(s==nil){\n",
    "        return math.NaN()\n",
    "    }\n",
    "    return float64(s.end.Y - s.start.Y)/float64(s.end.X - s.start.X)\n",
    "}\n",
    "\n",
    "var s *Segment = nil\n",
    "\n",
    "fmt.Println(s.Slope())"
   ]
  },
  {
   "cell_type": "markdown",
   "id": "d81c577a-b0d3-4962-8050-3d650c005084",
   "metadata": {},
   "source": [
    "### Composition with struct"
   ]
  },
  {
   "cell_type": "code",
   "execution_count": 10,
   "id": "20de0101-d7cf-4579-a4c8-7854fc7c1f1c",
   "metadata": {},
   "outputs": [
    {
     "name": "stdout",
     "output_type": "stream",
     "text": [
      "255\n",
      "Triangle\n"
     ]
    },
    {
     "data": {
      "text/plain": [
       "9 <nil>"
      ]
     },
     "execution_count": 10,
     "metadata": {},
     "output_type": "execute_result"
    }
   ],
   "source": [
    "type Color struct{\n",
    "    R,G,B int\n",
    "    \n",
    "}\n",
    "\n",
    "func (c Color) Sum() int{\n",
    "    return c.R+c.G+c.B\n",
    "}\n",
    "\n",
    "type Shape struct{\n",
    "    noOfSides int\n",
    "    Color\n",
    "}\n",
    "\n",
    "func (s Shape) String() string{\n",
    "    return fmt.Sprintf(\"Shape with noOfSides %d \",s.noOfSides)\n",
    "}\n",
    "\n",
    "type Triangle struct{\n",
    "    Shape\n",
    "}\n",
    "\n",
    "func (t Triangle) String() string{\n",
    "    return fmt.Sprintf(\"Triangle\")\n",
    "}\n",
    "\n",
    "triangle := Triangle{{3,{255,0,0}}}\n",
    "\n",
    "fmt.Println(triangle.Sum()) // Sum promoted from Color\n",
    "\n",
    "fmt.Println(triangle.String()) // Shape#String is hidden by Triangle#String"
   ]
  },
  {
   "cell_type": "markdown",
   "id": "f1780aac-cbdf-4918-8418-65d2800b3e5c",
   "metadata": {},
   "source": [
    "### Method values\n",
    "\n",
    "These are useful when we need to keep the receiver fixed and embedded in the function"
   ]
  },
  {
   "cell_type": "code",
   "execution_count": 11,
   "id": "dc4eb5b5-b36f-4f4b-a7b5-062fe4c91ee6",
   "metadata": {},
   "outputs": [],
   "source": [
    "func (this Point) Distance (another Point) float64{\n",
    "    return math.Sqrt(math.Pow(float64(this.X-another.X),2)+math.Pow(float64(this.Y-another.Y),2))\n",
    "}\n"
   ]
  },
  {
   "cell_type": "code",
   "execution_count": 19,
   "id": "067fd251-53a8-4641-9c4d-65558486d42d",
   "metadata": {},
   "outputs": [
    {
     "name": "stdout",
     "output_type": "stream",
     "text": [
      "5\n",
      "10\n"
     ]
    },
    {
     "data": {
      "text/plain": [
       "3 <nil>"
      ]
     },
     "execution_count": 19,
     "metadata": {},
     "output_type": "execute_result"
    }
   ],
   "source": [
    "theCenter := Point{0,0}\n",
    "\n",
    "var distanceFromCenter func(Point)float64 = theCenter.Distance // This is method value, the center point it part of the method itself,\n",
    "// and no more a parameter\n",
    "\n",
    "\n",
    "fmt.Println(distanceFromCenter(Point{3,4}))\n",
    "\n",
    "fmt.Println(distanceFromCenter(Point{8,6}))"
   ]
  },
  {
   "cell_type": "markdown",
   "id": "16156b8b-6734-4ce8-9232-31b69b6c4abc",
   "metadata": {},
   "source": [
    "### Method expressions\n",
    "\n",
    "convert methods to functions where first argument is the receiver type"
   ]
  },
  {
   "cell_type": "code",
   "execution_count": 17,
   "id": "c8e6b22b-1ca5-4d59-90f9-6388d1277f86",
   "metadata": {},
   "outputs": [
    {
     "name": "stdout",
     "output_type": "stream",
     "text": [
      "5\n"
     ]
    },
    {
     "data": {
      "text/plain": [
       "2 <nil>"
      ]
     },
     "execution_count": 17,
     "metadata": {},
     "output_type": "execute_result"
    }
   ],
   "source": [
    "var distanceCalc func(Point,Point)float64  = Point.Distance\n",
    "\n",
    "fmt.Println(distanceCalc(Point{1,2},Point{4,6})) // note that the first argument was reciever type in the method"
   ]
  },
  {
   "cell_type": "code",
   "execution_count": 29,
   "id": "474a90f8-3681-4e7a-81df-40ea5d8dab22",
   "metadata": {},
   "outputs": [
    {
     "ename": "ERROR",
     "evalue": "repl.go:15:12: type <*main.Dog> has no method \"sound\": (*Dog).sound",
     "output_type": "error",
     "traceback": [
      "repl.go:15:12: type <*main.Dog> has no method \"sound\": (*Dog).sound"
     ]
    }
   ],
   "source": [
    "type Dog string\n",
    "\n",
    "func (dog *Dog) sound(){\n",
    "    fmt.Println(\"Bowbow\")\n",
    "}\n",
    "\n",
    "// Following is incorrect\n",
    "\n",
    "/*sound := Dog.sound\n",
    "dog := Dog(\"bruno\")\n",
    "sound(dog)*/\n",
    "\n",
    "// Follows the correct way to collect method expression \n",
    "\n",
    "sound := (*Dog).sound // first argument is a pointer (to receiver) in the sound method\n",
    "dog := Dog(\"bruno\")\n",
    "sound(&dog) // address of dog because the argument is a pointer\n"
   ]
  },
  {
   "cell_type": "code",
   "execution_count": null,
   "id": "678dfcf4-38e9-421e-9afa-c15f3b3df9ca",
   "metadata": {},
   "outputs": [],
   "source": []
  }
 ],
 "metadata": {
  "kernelspec": {
   "display_name": "Go",
   "language": "go",
   "name": "gophernotes"
  },
  "language_info": {
   "codemirror_mode": "",
   "file_extension": ".go",
   "mimetype": "",
   "name": "go",
   "nbconvert_exporter": "",
   "pygments_lexer": "",
   "version": "go1.15.6"
  }
 },
 "nbformat": 4,
 "nbformat_minor": 5
}
