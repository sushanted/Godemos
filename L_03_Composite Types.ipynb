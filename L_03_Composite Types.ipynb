{
 "cells": [
  {
   "cell_type": "code",
   "execution_count": 1,
   "id": "9c1f47ea-89a9-41ed-be73-cdcc60b8b3bc",
   "metadata": {},
   "outputs": [],
   "source": [
    "import \"fmt\""
   ]
  },
  {
   "cell_type": "markdown",
   "id": "7738e09b-77ef-4e1e-95aa-b0a8a6be71c0",
   "metadata": {},
   "source": [
    "### General Composite types declarations (This has some forward references)\n",
    "\n",
    "#### type definition\n",
    "\n",
    "type &lt;name&gt; &lt;definition&gt;   \n",
    "\n",
    "name can be considered as an alias defined for the declaration.\n",
    "\n",
    "#### type instantiation\n",
    "\n",
    "&lt;name&gt;  &lt;type-literal&gt;   \n",
    "\n",
    "#### anonymous type instantiation\n",
    "\n",
    "\n",
    "&lt;defintion&gt;  &lt;type-literal&gt; "
   ]
  },
  {
   "cell_type": "code",
   "execution_count": 97,
   "id": "4bd8e8b3-7844-42a0-8778-cfbdd6ddecdb",
   "metadata": {},
   "outputs": [],
   "source": [
    "// Type definition\n",
    "\n",
    "type Weight float32\n",
    "type Phone []string\n",
    "type Details struct{\n",
    "    name string\n",
    "    weight Weight\n",
    "}\n",
    "\n",
    "// Now following instantiations are equivalent\n",
    "\n",
    "// Anonymous type instantiation\n",
    "w1 := 34.56\n",
    "p1 := []string{\"342135\",\"3212343\"}\n",
    "s1 := struct{\n",
    "    name string\n",
    "    weight Weight\n",
    "}{\n",
    "    name : \"Ajay\",\n",
    "    weight: 45.67,\n",
    "}\n",
    "\n",
    "// Type instantiations with predefined names\n",
    "w2 := Weight(34.56)\n",
    "p2 := Phone{\"342135\",\"3212343\"}\n",
    "s2 := Details{\n",
    "    name : \"Ajay\",\n",
    "    weight: 45.67,\n",
    "}\n"
   ]
  },
  {
   "cell_type": "markdown",
   "id": "2cd425a7-6680-4e92-bd15-f0960b188ea7",
   "metadata": {},
   "source": [
    "### Arrays"
   ]
  },
  {
   "cell_type": "markdown",
   "id": "a309124e-5f9f-46b0-a9b1-ce93446bd86c",
   "metadata": {},
   "source": [
    "#### Declaration and definition"
   ]
  },
  {
   "cell_type": "code",
   "execution_count": 2,
   "id": "ef67f864-959b-4d4c-97b9-a50ceea82502",
   "metadata": {},
   "outputs": [
    {
     "name": "stdout",
     "output_type": "stream",
     "text": [
      "[0 0 0]\n"
     ]
    },
    {
     "data": {
      "text/plain": [
       "8 <nil>"
      ]
     },
     "execution_count": 2,
     "metadata": {},
     "output_type": "execute_result"
    }
   ],
   "source": [
    "var arr1 [3]int\n",
    "\n",
    "fmt.Println(arr1) // by default all values are 0\n"
   ]
  },
  {
   "cell_type": "code",
   "execution_count": 3,
   "id": "2b8a3f77-4702-48e0-8579-838b051f84e5",
   "metadata": {},
   "outputs": [
    {
     "name": "stdout",
     "output_type": "stream",
     "text": [
      "[1 2 3]\n"
     ]
    },
    {
     "data": {
      "text/plain": [
       "8 <nil>"
      ]
     },
     "execution_count": 3,
     "metadata": {},
     "output_type": "execute_result"
    }
   ],
   "source": [
    "var completeDeclaredAndDefined [3]int = [3]int{1,2,3}\n",
    "\n",
    "fmt.Println(completeDeclaredAndDefined)\n"
   ]
  },
  {
   "cell_type": "code",
   "execution_count": 4,
   "id": "c934ece4-5ea4-483a-9c7c-dc5a7bc957a2",
   "metadata": {},
   "outputs": [
    {
     "name": "stdout",
     "output_type": "stream",
     "text": [
      "[1 2 3]\n"
     ]
    },
    {
     "data": {
      "text/plain": [
       "8 <nil>"
      ]
     },
     "execution_count": 4,
     "metadata": {},
     "output_type": "execute_result"
    }
   ],
   "source": [
    "inferredArray := [3]int{1,2,3}  // simplified inferred type and size\n",
    "\n",
    "fmt.Println(inferredArray)"
   ]
  },
  {
   "cell_type": "code",
   "execution_count": 5,
   "id": "a0fe8d88-95de-4e4c-b351-0d14e7bcb746",
   "metadata": {},
   "outputs": [
    {
     "name": "stdout",
     "output_type": "stream",
     "text": [
      "[1 0 0]\n"
     ]
    },
    {
     "data": {
      "text/plain": [
       "8 <nil>"
      ]
     },
     "execution_count": 5,
     "metadata": {},
     "output_type": "execute_result"
    }
   ],
   "source": [
    "var partiallyDefinedArray [3]int = [3]int{1} // define only first few elements\n",
    "\n",
    "fmt.Println(partiallyDefinedArray)"
   ]
  },
  {
   "cell_type": "code",
   "execution_count": 6,
   "id": "c557722e-2727-4514-bbc0-00c13b8c8b5f",
   "metadata": {},
   "outputs": [
    {
     "name": "stdout",
     "output_type": "stream",
     "text": [
      "[1 2 3 4]\n"
     ]
    },
    {
     "data": {
      "text/plain": [
       "10 <nil>"
      ]
     },
     "execution_count": 6,
     "metadata": {},
     "output_type": "execute_result"
    }
   ],
   "source": [
    "inferredSizeArray  :=  [...]int{1,2,3,4}\n",
    "\n",
    "fmt.Println(inferredSizeArray)"
   ]
  },
  {
   "cell_type": "code",
   "execution_count": 7,
   "id": "551fa41c-dbf6-4cd1-935a-9f0f865b6445",
   "metadata": {},
   "outputs": [],
   "source": [
    "threeElementArray := [3]int{1,2,3}\n",
    "\n",
    "// threeElementArray = [2]int{1,2} // incompatible types in assignment: [3]int = [2]int"
   ]
  },
  {
   "cell_type": "code",
   "execution_count": 8,
   "id": "15e89af6-19c5-4c24-b26c-28ff970ca4d8",
   "metadata": {},
   "outputs": [
    {
     "name": "stdout",
     "output_type": "stream",
     "text": [
      "[zero one two]\n"
     ]
    },
    {
     "data": {
      "text/plain": [
       "15 <nil>"
      ]
     },
     "execution_count": 8,
     "metadata": {},
     "output_type": "execute_result"
    }
   ],
   "source": [
    "anyIndexOrderArray := [...]string{0: \"zero\", 2: \"two\", 1 :\"one\"}\n",
    "\n",
    "fmt.Println(anyIndexOrderArray)"
   ]
  },
  {
   "cell_type": "code",
   "execution_count": 9,
   "id": "e35ed0ed-94ca-4369-8b62-1f3fac0c473d",
   "metadata": {},
   "outputs": [
    {
     "name": "stdout",
     "output_type": "stream",
     "text": [
      "[0 0 0 0 0 0 0 0 0 0 0 0 0 0 0 0 0 0 0 0 0 0 0 -1]\n"
     ]
    },
    {
     "data": {
      "text/plain": [
       "51 <nil>"
      ]
     },
     "execution_count": 9,
     "metadata": {},
     "output_type": "execute_result"
    }
   ],
   "source": [
    "partiallyDefinedIndexArray := [...]int{23: -1}\n",
    "\n",
    "fmt.Println(partiallyDefinedIndexArray)"
   ]
  },
  {
   "cell_type": "markdown",
   "id": "5b888eac-f152-4193-8622-6d9d2c67c582",
   "metadata": {},
   "source": [
    "#### Copy by value\n",
    "Arrays are copied by value, i.e. a=b, a is a new copy of b, modifying a doesn't modify b"
   ]
  },
  {
   "cell_type": "code",
   "execution_count": 10,
   "id": "8d841def-fb10-4b02-99d2-32011739640c",
   "metadata": {},
   "outputs": [
    {
     "name": "stdout",
     "output_type": "stream",
     "text": [
      "[1 2 3]\n",
      "[1 2 3]\n",
      "[22 2 3]\n"
     ]
    },
    {
     "data": {
      "text/plain": [
       "9 <nil>"
      ]
     },
     "execution_count": 10,
     "metadata": {},
     "output_type": "execute_result"
    }
   ],
   "source": [
    "toCopy := [...]int{1,2,3}\n",
    "fmt.Println(toCopy)\n",
    "copied := toCopy\n",
    "copied[0]=22\n",
    "fmt.Println(toCopy)\n",
    "fmt.Println(copied)"
   ]
  },
  {
   "cell_type": "markdown",
   "id": "dd01df19-0433-4367-829c-1719ccc23c57",
   "metadata": {},
   "source": [
    "#### Comparision"
   ]
  },
  {
   "cell_type": "code",
   "execution_count": 11,
   "id": "236d4e75-72df-4645-9478-285eefd2cc0f",
   "metadata": {},
   "outputs": [
    {
     "name": "stdout",
     "output_type": "stream",
     "text": [
      "true false\n"
     ]
    },
    {
     "data": {
      "text/plain": [
       "11 <nil>"
      ]
     },
     "execution_count": 11,
     "metadata": {},
     "output_type": "execute_result"
    }
   ],
   "source": [
    "a := [...]int{1,2}\n",
    "b := [...]int{1,2}\n",
    "c := [...]int{2,1}\n",
    "\n",
    "fmt.Println(a==b,a==c)"
   ]
  },
  {
   "cell_type": "markdown",
   "id": "d72457c7-5651-4ef1-88a0-60cf7370e016",
   "metadata": {},
   "source": [
    "#### Pointer to array"
   ]
  },
  {
   "cell_type": "code",
   "execution_count": 12,
   "id": "5464e0f6-8ebd-4ca8-9a94-aa281df8b157",
   "metadata": {},
   "outputs": [
    {
     "name": "stdout",
     "output_type": "stream",
     "text": [
      "&[1 2 3]\n",
      "[1 2 3]\n",
      "1\n"
     ]
    },
    {
     "data": {
      "text/plain": [
       "2 <nil>"
      ]
     },
     "execution_count": 12,
     "metadata": {},
     "output_type": "execute_result"
    }
   ],
   "source": [
    "arr := [...]int{1,2,3} \n",
    "\n",
    "ptArr := &arr // Java equivalence : AtomicReference<>  ar = AtomicReference<int[]>\n",
    "\n",
    "fmt.Println(ptArr)\n",
    "fmt.Println(*ptArr) // Java equivalence : ar.get()\n",
    "fmt.Println(ptArr[0]) // Java equivalence : ar.get()[0]"
   ]
  },
  {
   "cell_type": "code",
   "execution_count": 13,
   "id": "4d16028e-f849-4fdd-b087-37f1b150989c",
   "metadata": {},
   "outputs": [
    {
     "name": "stdout",
     "output_type": "stream",
     "text": [
      "[0 1 2]\n"
     ]
    },
    {
     "data": {
      "text/plain": [
       "8 <nil>"
      ]
     },
     "execution_count": 13,
     "metadata": {},
     "output_type": "execute_result"
    }
   ],
   "source": [
    "ptArr[0] = 0 // Java equivalence : ar.get()[0] = 0\n",
    "arr[1] = 1\n",
    "(*ptArr)[2]=2  // Java equivalence : ar.get()[2] = 2, same as the first one\n",
    "\n",
    "fmt.Println(*ptArr) // Java equivalence : ar.get()"
   ]
  },
  {
   "cell_type": "code",
   "execution_count": 14,
   "id": "2360e4a3-051a-4e6e-a977-0037a786a248",
   "metadata": {},
   "outputs": [
    {
     "name": "stdout",
     "output_type": "stream",
     "text": [
      "[0 0 0]\n"
     ]
    },
    {
     "data": {
      "text/plain": [
       "8 <nil>"
      ]
     },
     "execution_count": 14,
     "metadata": {},
     "output_type": "execute_result"
    }
   ],
   "source": [
    "*ptArr = [...]int{0,0,0} // Java equivalence : ar.set(new int[]{0,0,0})\n",
    "fmt.Println(*ptArr)"
   ]
  },
  {
   "cell_type": "markdown",
   "id": "de305826-fbf3-4d8a-afec-6d85609b8b38",
   "metadata": {},
   "source": [
    "### Slices\n",
    "\n",
    "Slices are the writable views of the original array"
   ]
  },
  {
   "cell_type": "code",
   "execution_count": 15,
   "id": "4fea9d40-df49-4ff4-869f-00ec885dd422",
   "metadata": {},
   "outputs": [],
   "source": [
    "months:= [...]string{\"January\", \"February\", \"March\", \"April\", \"May\", \"June\", \"July\", \"August\", \"September\", \"October\", \"November\", \"December\"}"
   ]
  },
  {
   "cell_type": "code",
   "execution_count": 16,
   "id": "bbbb45de-b84d-473e-8a27-dafbffed235a",
   "metadata": {},
   "outputs": [],
   "source": [
    "Q1 := months[0:3]"
   ]
  },
  {
   "cell_type": "code",
   "execution_count": 17,
   "id": "894a5802-aed1-4955-83d8-d5af3ed03af6",
   "metadata": {},
   "outputs": [
    {
     "name": "stdout",
     "output_type": "stream",
     "text": [
      "[January February March]\n",
      "January\n"
     ]
    },
    {
     "data": {
      "text/plain": [
       "8 <nil>"
      ]
     },
     "execution_count": 17,
     "metadata": {},
     "output_type": "execute_result"
    }
   ],
   "source": [
    "fmt.Println(Q1)\n",
    "fmt.Println(Q1[0])\n",
    "// fmt.Println(Q1[4]) // slice index out of range"
   ]
  },
  {
   "cell_type": "code",
   "execution_count": 18,
   "id": "23c0e096-3133-4a49-b953-f5c117ea68da",
   "metadata": {},
   "outputs": [
    {
     "name": "stdout",
     "output_type": "stream",
     "text": [
      "[March]\n"
     ]
    },
    {
     "data": {
      "text/plain": [
       "8 <nil>"
      ]
     },
     "execution_count": 18,
     "metadata": {},
     "output_type": "execute_result"
    }
   ],
   "source": [
    "fmt.Println(Q1[2:]) // slice from another slice"
   ]
  },
  {
   "cell_type": "code",
   "execution_count": 19,
   "id": "7f9ccb0a-1d72-499f-ba84-565eb2e7d54c",
   "metadata": {},
   "outputs": [
    {
     "name": "stdout",
     "output_type": "stream",
     "text": [
      "[January February March April May June]\n"
     ]
    },
    {
     "data": {
      "text/plain": [
       "40 <nil>"
      ]
     },
     "execution_count": 19,
     "metadata": {},
     "output_type": "execute_result"
    }
   ],
   "source": [
    "fmt.Println(Q1[0:6]) // extended slice, because there are elements beyond the range in the original array"
   ]
  },
  {
   "cell_type": "code",
   "execution_count": 20,
   "id": "d45c2f87-698e-49cc-850e-b687891a0050",
   "metadata": {},
   "outputs": [
    {
     "name": "stdout",
     "output_type": "stream",
     "text": [
      "[October November December]\n"
     ]
    },
    {
     "data": {
      "text/plain": [
       "28 <nil>"
      ]
     },
     "execution_count": 20,
     "metadata": {},
     "output_type": "execute_result"
    }
   ],
   "source": [
    "Q4 := months[9:]\n",
    "\n",
    "fmt.Println(Q4)"
   ]
  },
  {
   "cell_type": "markdown",
   "id": "039a3b5c-8b27-4eb5-8a09-206bcfb91cfd",
   "metadata": {},
   "source": [
    "#### Slice literals"
   ]
  },
  {
   "cell_type": "code",
   "execution_count": 21,
   "id": "d984c15d-30cf-4788-b9e7-a277317f09c5",
   "metadata": {},
   "outputs": [
    {
     "name": "stdout",
     "output_type": "stream",
     "text": [
      "[1 2 3] [zero          ten]\n"
     ]
    },
    {
     "data": {
      "text/plain": [
       "28 <nil>"
      ]
     },
     "execution_count": 21,
     "metadata": {},
     "output_type": "execute_result"
    }
   ],
   "source": [
    "slice1 := []int{1,2,3} // This creates an array and immediately a slice out of it\n",
    "slice2 := []string{0:\"zero\",10:\"ten\"} // This is same as array, because it is a backup array for the slice\n",
    "\n",
    "fmt.Println(slice1,slice2)\n"
   ]
  },
  {
   "cell_type": "code",
   "execution_count": 125,
   "id": "276ad838-52c2-4528-af9f-b0749ce58314",
   "metadata": {},
   "outputs": [],
   "source": [
    "n :=45\n",
    "\n",
    "sliceOfPointers := []*int{&n}"
   ]
  },
  {
   "cell_type": "markdown",
   "id": "7ed458ef-8370-4907-9f32-0552b309d8a8",
   "metadata": {},
   "source": [
    "#### make slice"
   ]
  },
  {
   "cell_type": "code",
   "execution_count": 22,
   "id": "9d4811e1-bdaf-410a-af3b-6371ba791087",
   "metadata": {},
   "outputs": [
    {
     "name": "stdout",
     "output_type": "stream",
     "text": [
      "[0 0 0 0]\n",
      "[0 0 0 0]\n"
     ]
    },
    {
     "data": {
      "text/plain": [
       "10 <nil>"
      ]
     },
     "execution_count": 22,
     "metadata": {},
     "output_type": "execute_result"
    }
   ],
   "source": [
    "madeSlice := make([]int,4)\n",
    "\n",
    "fmt.Println(madeSlice)\n",
    "\n",
    "madeSliceWithCapacity := make([]int,4,10) // 6 items for future growth\n",
    "\n",
    "fmt.Println(madeSliceWithCapacity)"
   ]
  },
  {
   "cell_type": "code",
   "execution_count": 23,
   "id": "221b184d-4497-45a0-8d30-865445658169",
   "metadata": {},
   "outputs": [
    {
     "name": "stdout",
     "output_type": "stream",
     "text": [
      "October\n",
      "November\n",
      "December\n"
     ]
    }
   ],
   "source": [
    "for _,month := range Q4{\n",
    "    fmt.Println(month)\n",
    "}"
   ]
  },
  {
   "cell_type": "markdown",
   "id": "7a3521a5-6856-4b6e-b7ab-ccd08c05319e",
   "metadata": {},
   "source": [
    "#### Modifying slices modifies original array"
   ]
  },
  {
   "cell_type": "code",
   "execution_count": 24,
   "id": "7849ebb3-f096-4407-a955-55b9539f47b5",
   "metadata": {},
   "outputs": [
    {
     "name": "stdout",
     "output_type": "stream",
     "text": [
      "[Jan February March]\n",
      "[Jan February March April May June July August September October November December]\n"
     ]
    },
    {
     "data": {
      "text/plain": [
       "84 <nil>"
      ]
     },
     "execution_count": 24,
     "metadata": {},
     "output_type": "execute_result"
    }
   ],
   "source": [
    "Q1[0] = \"Jan\"\n",
    "fmt.Println(Q1)\n",
    "fmt.Println(months)"
   ]
  },
  {
   "cell_type": "markdown",
   "id": "f5b6d75e-407c-4e79-90c7-2964acd389fa",
   "metadata": {},
   "source": [
    "#### Copy by reference"
   ]
  },
  {
   "cell_type": "code",
   "execution_count": 25,
   "id": "73ca8f02-0d61-4e86-9190-8e45e4da975a",
   "metadata": {},
   "outputs": [
    {
     "name": "stdout",
     "output_type": "stream",
     "text": [
      "[Jan Feb March]\n"
     ]
    },
    {
     "data": {
      "text/plain": [
       "16 <nil>"
      ]
     },
     "execution_count": 25,
     "metadata": {},
     "output_type": "execute_result"
    }
   ],
   "source": [
    "quarter1 := Q1\n",
    "quarter1[1] = \"Feb\"\n",
    "fmt.Println(Q1)"
   ]
  },
  {
   "cell_type": "markdown",
   "id": "81aaa2b6-4b02-4bec-9661-be06858949ee",
   "metadata": {},
   "source": [
    "#### Slice are not comparable with =="
   ]
  },
  {
   "cell_type": "code",
   "execution_count": 26,
   "id": "60651b67-76a3-4cf1-bbc8-6d5ef9de33f7",
   "metadata": {},
   "outputs": [
    {
     "name": "stdout",
     "output_type": "stream",
     "text": [
      "true\n"
     ]
    }
   ],
   "source": [
    "leftArray := [...]int{1,2,3}\n",
    "rightArray := [...]int{1,2,3}\n",
    "\n",
    "fmt.Println(leftArray==rightArray)\n",
    "\n",
    "\n",
    "leftSlice := []int{1,2,3}\n",
    "rightSlice := []int{1,2,3}\n",
    "\n",
    "// fmt.Println(leftSlice==rightSlice) // invalid binary operation == between <[]int> and <[]int>: left == right"
   ]
  },
  {
   "cell_type": "markdown",
   "id": "fdbae55e-2417-4e7b-a451-19577a517afc",
   "metadata": {},
   "source": [
    "#### slices, len and comparision with nil\n",
    "\n",
    "To check if a slice is empty, we can always use len(slice)==0 works irrespective it is nil or not."
   ]
  },
  {
   "cell_type": "code",
   "execution_count": 27,
   "id": "a43869e4-0d10-4555-8768-f017e4031446",
   "metadata": {},
   "outputs": [
    {
     "name": "stdout",
     "output_type": "stream",
     "text": [
      "true\n",
      "0\n",
      "true\n",
      "0\n",
      "true\n",
      "0\n",
      "false\n",
      "0\n",
      "false\n",
      "0\n"
     ]
    },
    {
     "data": {
      "text/plain": [
       "2 <nil>"
      ]
     },
     "execution_count": 27,
     "metadata": {},
     "output_type": "execute_result"
    }
   ],
   "source": [
    "// Not initialized, doesn't point to any array\n",
    "var nilSlice1 []int\n",
    "\n",
    "fmt.Println(nilSlice1==nil)\n",
    "fmt.Println(len(nilSlice1))\n",
    "\n",
    "// Explicitly made to point to nil\n",
    "nilSlice1 = nil\n",
    "\n",
    "fmt.Println(nilSlice1==nil)\n",
    "fmt.Println(len(nilSlice1))\n",
    "\n",
    "// conversion expression, convert nil to []int\n",
    "nilSlice2 := []int(nil)\n",
    "\n",
    "fmt.Println(nilSlice2==nil)\n",
    "fmt.Println(len(nilSlice2))\n",
    "\n",
    "// Slice pointing to the empty array\n",
    "emptySlice1 := []int{} \n",
    "\n",
    "fmt.Println(emptySlice1==nil) // false : it is not pointing to nil, but an empty array\n",
    "fmt.Println(len(emptySlice1))\n",
    "\n",
    "emptySlice2 := []int{1,2,3}[0:0]\n",
    "\n",
    "fmt.Println(emptySlice2==nil) // false : it is not pointing to nil, it is empty\n",
    "fmt.Println(len(emptySlice2))"
   ]
  },
  {
   "cell_type": "markdown",
   "id": "b6dc5d39-d24a-4a06-893b-37d15e3b5f1f",
   "metadata": {},
   "source": [
    "##### Note : Go functions are safe for nil slices, they work on nil and non-nil empty slices the same way."
   ]
  },
  {
   "cell_type": "markdown",
   "id": "3d2d197d-2f93-41c4-8fd5-d3b63332cb5f",
   "metadata": {},
   "source": [
    "#### interesting declaration"
   ]
  },
  {
   "cell_type": "code",
   "execution_count": 28,
   "id": "d594ac78-4009-4877-9afb-8fe05b3fa010",
   "metadata": {},
   "outputs": [
    {
     "name": "stdout",
     "output_type": "stream",
     "text": [
      "[4]\n"
     ]
    },
    {
     "data": {
      "text/plain": [
       "4 <nil>"
      ]
     },
     "execution_count": 28,
     "metadata": {},
     "output_type": "execute_result"
    }
   ],
   "source": [
    "fmt.Println([]int{1,2,3,4,5,6,7}[2:5][1:2])"
   ]
  },
  {
   "cell_type": "markdown",
   "id": "b9fb37d5-984f-4e29-9510-ceebe5d2e69d",
   "metadata": {},
   "source": [
    "#### append"
   ]
  },
  {
   "cell_type": "code",
   "execution_count": 29,
   "id": "d5c2e31f-2915-4df7-b1fc-87f74eeac5a8",
   "metadata": {},
   "outputs": [
    {
     "name": "stdout",
     "output_type": "stream",
     "text": [
      "[]\n",
      "len=1 cap=2 firstAddress=c0005dc490\n",
      "len=2 cap=2 firstAddress=c0005dc490\n",
      "len=3 cap=4 firstAddress=c000036820\n",
      "len=4 cap=4 firstAddress=c000036820\n",
      "len=5 cap=8 firstAddress=c000542680\n",
      "len=6 cap=8 firstAddress=c000542680\n",
      "len=7 cap=8 firstAddress=c000542680\n",
      "len=8 cap=8 firstAddress=c000542680\n",
      "len=9 cap=16 firstAddress=c0001c8b00\n",
      "len=10 cap=16 firstAddress=c0001c8b00\n",
      "len=11 cap=16 firstAddress=c0001c8b00\n",
      "[0 1 2 3 4 5 6 7 8 9 10]\n"
     ]
    },
    {
     "data": {
      "text/plain": [
       "25 <nil>"
      ]
     },
     "execution_count": 29,
     "metadata": {},
     "output_type": "execute_result"
    }
   ],
   "source": [
    "appendableSlice := make([]int,0,2)\n",
    "\n",
    "fmt.Println(appendableSlice)\n",
    "\n",
    "for i:=0;i<11;i++{\n",
    "    appendableSlice = append(appendableSlice,i)\n",
    "    fmt.Printf(\"len=%d cap=%d firstAddress=%x\\n\",len(appendableSlice),cap(appendableSlice),&appendableSlice[0])\n",
    "}\n",
    "\n",
    "fmt.Println(appendableSlice)"
   ]
  },
  {
   "cell_type": "markdown",
   "id": "b33cee62-b03d-4b78-a600-7eb4366f527e",
   "metadata": {},
   "source": [
    "##### Note : In above program, as the length after append reaches the capacity, a new array is created with double the current capacity.You can see the change in the capacity above as well as change in the address of the first element after reaching the capacity.\n",
    "##### Note : the append should be collected again into the original variable, as it may point to a new array now.\n",
    "\n",
    "\n",
    " We cannot gaurantee that a all to append will cause a reallocation,\n",
    "therefore we can’t assume that the original slice refers to the same array as the resulting slice. Also, we must not assume that operations on elements of the old slice may or may not be reflected in the new slice. As a result, it’s usual practice to assign the result of a call to append to the same slice variable whose value we passed to append."
   ]
  },
  {
   "cell_type": "code",
   "execution_count": 30,
   "id": "bfad77d1-afe9-4806-9dd0-9a473b2aa7ae",
   "metadata": {},
   "outputs": [
    {
     "name": "stdout",
     "output_type": "stream",
     "text": [
      "[1 0 0 0]\n",
      "[1 2 0 0]\n",
      "[1 2 3 0]\n",
      "[1 2 3 4]\n",
      "[1 2 3 4]\n",
      "[1 2 3 4]\n"
     ]
    }
   ],
   "source": [
    "arrayBack := [...]int{0,0,0,0}\n",
    "\n",
    "sliceFromArray := arrayBack[0:0]\n",
    "\n",
    "for i:=0;i<6;i++{\n",
    "    sliceFromArray = append(sliceFromArray,i+1)\n",
    "    fmt.Println(arrayBack) // After full capacity the array remains unchanged, append returns a new slice pointing to a new bigger array\n",
    "}\n",
    "\n"
   ]
  },
  {
   "cell_type": "code",
   "execution_count": 31,
   "id": "e39818a4-5963-47e2-a044-e059c68d9c48",
   "metadata": {},
   "outputs": [
    {
     "name": "stdout",
     "output_type": "stream",
     "text": [
      "[1 0 0 0]\n",
      "[2 0 0 0]\n",
      "[3 0 0 0]\n",
      "[4 0 0 0]\n",
      "[5 0 0 0]\n",
      "[6 0 0 0]\n"
     ]
    }
   ],
   "source": [
    "arrayBack1 := [...]int{0,0,0,0}\n",
    "\n",
    "sliceFromArray1 := arrayBack1[0:0]\n",
    "\n",
    "for i:=0;i<6;i++{\n",
    "    append(sliceFromArray1,i+1) // This time not assigning the slice back to original slice variable, \n",
    "    // the original slice remains the same : same length and same capacity\n",
    "    // in the next append, the new element is appended at the same location [0] of the array, because the slice is [0:0]\n",
    "    fmt.Println(arrayBack1) \n",
    "}"
   ]
  },
  {
   "cell_type": "markdown",
   "id": "02dc27ae-51ab-46c7-8c63-04f3a53ae3f0",
   "metadata": {},
   "source": [
    "##### append multiple elements"
   ]
  },
  {
   "cell_type": "code",
   "execution_count": 32,
   "id": "2fa9ab7b-5d63-4f0c-b6c6-07877fdaca90",
   "metadata": {},
   "outputs": [
    {
     "name": "stdout",
     "output_type": "stream",
     "text": [
      "[1 2 3 4 5 6]\n",
      "[1 2 3 4 5 6 3]\n"
     ]
    },
    {
     "data": {
      "text/plain": [
       "16 <nil>"
      ]
     },
     "execution_count": 32,
     "metadata": {},
     "output_type": "execute_result"
    }
   ],
   "source": [
    "sliceMultipleAppend := []int{1,2,3}\n",
    "\n",
    "sliceMultipleAppend = append(sliceMultipleAppend,4,5,6)\n",
    "\n",
    "fmt.Println(sliceMultipleAppend)\n",
    "\n",
    "sliceMultipleAppend = append(sliceMultipleAppend,sliceMultipleAppend[2])\n",
    "\n",
    "fmt.Println(sliceMultipleAppend)"
   ]
  },
  {
   "cell_type": "markdown",
   "id": "40b74604-e2b8-495a-b955-9428a910cb15",
   "metadata": {},
   "source": [
    "#### Slice in-place operations"
   ]
  },
  {
   "cell_type": "code",
   "execution_count": 33,
   "id": "86a00d7f-420f-42b9-b3bb-366eeaed3991",
   "metadata": {},
   "outputs": [
    {
     "name": "stdout",
     "output_type": "stream",
     "text": [
      "[1 3 5 7 9 5]\n",
      "[1 3 5 7 9 5]\n"
     ]
    },
    {
     "data": {
      "text/plain": [
       "14 <nil>"
      ]
     },
     "execution_count": 33,
     "metadata": {},
     "output_type": "execute_result"
    }
   ],
   "source": [
    "// reuse the in numbers slice, but is it better not to touch the input?\n",
    "func odd(numbers []int) []int{\n",
    "    i:=0\n",
    "    for _,number := range numbers{\n",
    "        if number%2==1{\n",
    "            numbers[i]=number\n",
    "            i++\n",
    "        }\n",
    "    }\n",
    "    return numbers[:i]\n",
    "}\n",
    "\n",
    "fmt.Println(odd([]int{1,3,5,6,7,9,4,5}))\n",
    "\n",
    "// A usual go practice to reassign passed value with the result\n",
    "numbers := []int{1,3,5,6,7,9,4,5}\n",
    "numbers = odd(numbers)\n",
    "fmt.Println(numbers)\n"
   ]
  },
  {
   "cell_type": "markdown",
   "id": "a9f6efa0-539d-42b3-9851-d6646aae7a91",
   "metadata": {},
   "source": [
    "##### Stack using a slice"
   ]
  },
  {
   "cell_type": "code",
   "execution_count": 34,
   "id": "7e0c14bd-f406-4eb0-9fee-ce268dc17780",
   "metadata": {},
   "outputs": [
    {
     "name": "stdout",
     "output_type": "stream",
     "text": [
      "[1 2 3 4 5 6]\n",
      "Top: 6\n",
      "[1 2 3 4 5]\n"
     ]
    },
    {
     "data": {
      "text/plain": [
       "12 <nil>"
      ]
     },
     "execution_count": 34,
     "metadata": {},
     "output_type": "execute_result"
    }
   ],
   "source": [
    "stack := []int{1,2,3,4,5}\n",
    "\n",
    "stack = append(stack,6) // push\n",
    "\n",
    "fmt.Println(stack)\n",
    "\n",
    "fmt.Println(\"Top:\",stack[len(stack)-1])\n",
    "\n",
    "stack = stack[:len(stack)-1] // pop\n",
    "\n",
    "fmt.Println(stack)"
   ]
  },
  {
   "cell_type": "markdown",
   "id": "68eb3831-ba13-4cb3-bcd9-d67335d62735",
   "metadata": {},
   "source": [
    "#### Copy\n",
    "\n",
    "copy all elements of the source into destination replacing the elements in the destination from the start"
   ]
  },
  {
   "cell_type": "code",
   "execution_count": 35,
   "id": "4ab87904-4976-42d5-88e2-62f4887a1e3f",
   "metadata": {},
   "outputs": [
    {
     "name": "stdout",
     "output_type": "stream",
     "text": [
      "[1 2 6 7]\n"
     ]
    },
    {
     "data": {
      "text/plain": [
       "10 <nil>"
      ]
     },
     "execution_count": 35,
     "metadata": {},
     "output_type": "execute_result"
    }
   ],
   "source": [
    "source := []int{1,2}\n",
    "destination := []int{4,5,6,7}\n",
    "\n",
    "copy(destination,source) // destination = source\n",
    "\n",
    "fmt.Println(destination)"
   ]
  },
  {
   "cell_type": "code",
   "execution_count": 36,
   "id": "b9a38fb9-61e7-4330-bad0-4e94149b343c",
   "metadata": {},
   "outputs": [
    {
     "name": "stdout",
     "output_type": "stream",
     "text": [
      "[9 8]\n",
      "[9 8 3 4]\n"
     ]
    },
    {
     "data": {
      "text/plain": [
       "10 <nil>"
      ]
     },
     "execution_count": 36,
     "metadata": {},
     "output_type": "execute_result"
    }
   ],
   "source": [
    "small := []int{1,2,3,4}\n",
    "smaller := small[:2]\n",
    "big := []int{9,8,7,6}\n",
    "\n",
    "copy(smaller,big)\n",
    "\n",
    "fmt.Println(smaller) // copy only upto the length (NOT capacity) of the destination slice\n",
    "fmt.Println(small) // 3,4 remain as is in the destination slice"
   ]
  },
  {
   "cell_type": "code",
   "execution_count": 37,
   "id": "3f767cc0-de21-43f8-bbbf-ccdc7e83db99",
   "metadata": {},
   "outputs": [
    {
     "name": "stdout",
     "output_type": "stream",
     "text": [
      "[3 4 3 4]\n"
     ]
    },
    {
     "data": {
      "text/plain": [
       "10 <nil>"
      ]
     },
     "execution_count": 37,
     "metadata": {},
     "output_type": "execute_result"
    }
   ],
   "source": [
    "sliceSelfCopy := []int{1,2,3,4}\n",
    "\n",
    "copy(sliceSelfCopy[:2],sliceSelfCopy[2:])\n",
    "\n",
    "fmt.Println(sliceSelfCopy)"
   ]
  },
  {
   "cell_type": "code",
   "execution_count": 38,
   "id": "e8b9188b-4965-4124-a772-dc9210ff1f4e",
   "metadata": {},
   "outputs": [
    {
     "name": "stdout",
     "output_type": "stream",
     "text": [
      "Before shift: [1 2 3 4 5 6]\n",
      "After shift: [0 0 0 1 2 3]\n"
     ]
    },
    {
     "data": {
      "text/plain": [
       "27 <nil>"
      ]
     },
     "execution_count": 38,
     "metadata": {},
     "output_type": "execute_result"
    }
   ],
   "source": [
    "\n",
    "\n",
    "func rightShift(slice []int,by int) []int{\n",
    "    copy(slice[by:],slice)\n",
    "    copy(slice[:by],make([]int,len(slice)))\n",
    "    return slice\n",
    "}\n",
    "\n",
    "sliceToShift := []int{1,2,3,4,5,6}\n",
    "\n",
    "fmt.Println(\"Before shift:\",sliceToShift)\n",
    "fmt.Println(\"After shift:\",rightShift(sliceToShift,3))"
   ]
  },
  {
   "cell_type": "code",
   "execution_count": 39,
   "id": "92109d48-7dd3-429a-b309-3d7fb4726376",
   "metadata": {},
   "outputs": [
    {
     "name": "stdout",
     "output_type": "stream",
     "text": [
      "[[1 2 3] [0 4 5] [7 8]]\n",
      "4\n"
     ]
    },
    {
     "data": {
      "text/plain": [
       "2 <nil>"
      ]
     },
     "execution_count": 39,
     "metadata": {},
     "output_type": "execute_result"
    }
   ],
   "source": [
    "multiDimSlice := [][]int{\n",
    "    {1,2,3},\n",
    "    {1:4,5},\n",
    "    {7,8}, // This comma is necessary\n",
    "}\n",
    "\n",
    "\n",
    "fmt.Println(multiDimSlice)\n",
    "fmt.Println(multiDimSlice[1][1])"
   ]
  },
  {
   "cell_type": "markdown",
   "id": "f7016381-366e-4ffd-abf8-0a37ae927922",
   "metadata": {},
   "source": [
    "### Maps\n",
    "\n",
    "key should be only of the types which support == comparisons , e.g. slice cannot be a key but an array can be"
   ]
  },
  {
   "cell_type": "markdown",
   "id": "345a6ce8-d597-48cc-9569-1f3687a6dabd",
   "metadata": {},
   "source": [
    "#### Creation"
   ]
  },
  {
   "cell_type": "code",
   "execution_count": 40,
   "id": "a4f9590b-299b-48ab-8b7b-0fa3fcff5c65",
   "metadata": {},
   "outputs": [
    {
     "name": "stdout",
     "output_type": "stream",
     "text": [
      "map[3:three]\n"
     ]
    },
    {
     "data": {
      "text/plain": [
       "13 <nil>"
      ]
     },
     "execution_count": 40,
     "metadata": {},
     "output_type": "execute_result"
    }
   ],
   "source": [
    "emptyMadeMap := make(map[int]string) // similar to a function accepting an int and returning a string\n",
    "\n",
    "emptyMadeMap[3]=\"three\"\n",
    "\n",
    "fmt.Println(emptyMadeMap)"
   ]
  },
  {
   "cell_type": "code",
   "execution_count": 41,
   "id": "98817bc8-b028-4e6a-b19a-f3c7a14f98a7",
   "metadata": {},
   "outputs": [
    {
     "name": "stdout",
     "output_type": "stream",
     "text": [
      "map[one:1 two:2]\n"
     ]
    },
    {
     "data": {
      "text/plain": [
       "17 <nil>"
      ]
     },
     "execution_count": 41,
     "metadata": {},
     "output_type": "execute_result"
    }
   ],
   "source": [
    "initializedMap := map[string]int{\n",
    "    \"one\" : 1,\n",
    "    \"two\" : 2,\n",
    "}\n",
    "\n",
    "fmt.Println(initializedMap)"
   ]
  },
  {
   "cell_type": "code",
   "execution_count": 42,
   "id": "e03104df-a29c-4fe1-aa3f-227f4d5ea31b",
   "metadata": {},
   "outputs": [
    {
     "name": "stdout",
     "output_type": "stream",
     "text": [
      "map[]\n"
     ]
    },
    {
     "data": {
      "text/plain": [
       "6 <nil>"
      ]
     },
     "execution_count": 42,
     "metadata": {},
     "output_type": "execute_result"
    }
   ],
   "source": [
    "initializedEmptyMap := map[string]string{}\n",
    "\n",
    "fmt.Println(initializedEmptyMap)"
   ]
  },
  {
   "cell_type": "markdown",
   "id": "1f47e0fd-19c6-48cf-a0f4-576b8f50b934",
   "metadata": {},
   "source": [
    "#### Map operations"
   ]
  },
  {
   "cell_type": "code",
   "execution_count": 43,
   "id": "bb2d53d3-e1ce-47ef-a3d6-421732b8fc20",
   "metadata": {},
   "outputs": [],
   "source": [
    "colorMap := map[string]int{\n",
    "    \"red\" : 1,\n",
    "    \"green\" : 2,\n",
    "    \"blue\" :3,\n",
    "    \"yellow\" : 4,\n",
    "}"
   ]
  },
  {
   "cell_type": "code",
   "execution_count": 44,
   "id": "8d47b413-ed71-4342-baaa-6e155d85d41f",
   "metadata": {},
   "outputs": [
    {
     "name": "stdout",
     "output_type": "stream",
     "text": [
      "2 true\n",
      "0 false\n",
      "2 true\n",
      "map[blue:3 green:2 red:2]\n"
     ]
    },
    {
     "data": {
      "text/plain": [
       "26 <nil>"
      ]
     },
     "execution_count": 44,
     "metadata": {},
     "output_type": "execute_result"
    }
   ],
   "source": [
    "fmt.Println(colorMap[\"green\"])\n",
    "\n",
    "fmt.Println(colorMap[\"orange\"])\n",
    "\n",
    "colorMap[\"red\"]++\n",
    "\n",
    "fmt.Println(colorMap[\"red\"])\n",
    "\n",
    "delete(colorMap,\"yellow\")\n",
    "\n",
    "fmt.Println(colorMap)"
   ]
  },
  {
   "cell_type": "code",
   "execution_count": 45,
   "id": "1981cb5e-541a-4451-a3ff-72875bf8bdcf",
   "metadata": {},
   "outputs": [],
   "source": [
    "// &colorMap[\"red\"] // cannot take the address of a map element"
   ]
  },
  {
   "cell_type": "markdown",
   "id": "1b019f0a-cf44-43ea-ba71-debb37fc6e6e",
   "metadata": {},
   "source": [
    "##### Looping through"
   ]
  },
  {
   "cell_type": "code",
   "execution_count": 46,
   "id": "9981ee1a-3492-4096-90ae-ac0f346e52be",
   "metadata": {},
   "outputs": [
    {
     "name": "stdout",
     "output_type": "stream",
     "text": [
      "Color red is 2\n",
      "Color green is 2\n",
      "Color blue is 3\n"
     ]
    }
   ],
   "source": [
    "for color,value := range colorMap{\n",
    "    fmt.Printf(\"Color %s is %d\\n\",color,value)\n",
    "}\n",
    "\n"
   ]
  },
  {
   "cell_type": "markdown",
   "id": "6f3fc176-f64c-4a14-9115-e057d480b246",
   "metadata": {},
   "source": [
    "##### Sorted looping"
   ]
  },
  {
   "cell_type": "code",
   "execution_count": 47,
   "id": "1bddd691-057b-40f0-afa2-28ba53aa268b",
   "metadata": {},
   "outputs": [
    {
     "name": "stdout",
     "output_type": "stream",
     "text": [
      "Color blue is 3\n",
      "Color green is 2\n",
      "Color red is 2\n"
     ]
    }
   ],
   "source": [
    "import \"sort\"\n",
    "\n",
    "colors := make([]string,0,len(colorMap))\n",
    "\n",
    "for color := range colorMap{\n",
    "    colors = append(colors,color)\n",
    "}\n",
    "\n",
    "sort.Strings(colors) // sorts inplace\n",
    "\n",
    "for _,color := range colors{\n",
    "    fmt.Printf(\"Color %s is %d\\n\",color,colorMap[color])\n",
    "}"
   ]
  },
  {
   "cell_type": "markdown",
   "id": "81d2a136-6f86-448a-88b7-c219c5fd67b2",
   "metadata": {},
   "source": [
    "#### nil map"
   ]
  },
  {
   "cell_type": "code",
   "execution_count": 48,
   "id": "46252326-c40d-43fc-9308-d06c19557029",
   "metadata": {},
   "outputs": [
    {
     "name": "stdout",
     "output_type": "stream",
     "text": [
      "true\n",
      "true\n",
      "0 false\n"
     ]
    },
    {
     "data": {
      "text/plain": [
       "8 <nil>"
      ]
     },
     "execution_count": 48,
     "metadata": {},
     "output_type": "execute_result"
    }
   ],
   "source": [
    "// uninitialized\n",
    "\n",
    "var uninitializedNilMap map[string]int\n",
    "\n",
    "fmt.Println(uninitializedNilMap==nil)\n",
    "\n",
    "fmt.Println(len(uninitializedNilMap)==0)\n",
    "\n",
    "// Following is safe\n",
    "for k,v := range uninitializedNilMap{\n",
    "    \n",
    "}\n",
    "\n",
    "// This is also safe\n",
    "fmt.Println(uninitializedNilMap[\"value\"])\n",
    "\n",
    "//This is NOT safe, causes panic\n",
    "// uninitializedNilMap[\"black\"] = 9 // panic : assignment to entry in nil map"
   ]
  },
  {
   "cell_type": "markdown",
   "id": "d8ba5778-9c25-4511-8592-84197084eceb",
   "metadata": {},
   "source": [
    "#### Contains check in map"
   ]
  },
  {
   "cell_type": "code",
   "execution_count": 49,
   "id": "ae306a63-72a9-4930-8074-6f2f944b58d4",
   "metadata": {},
   "outputs": [
    {
     "name": "stdout",
     "output_type": "stream",
     "text": [
      "Color does not exist\n"
     ]
    }
   ],
   "source": [
    "value,ok := colorMap[\"white\"] // still the value is 0 which could be a valid value, to check contains need to use the second return value ok\n",
    "\n",
    "if(!ok){\n",
    "    fmt.Println(\"Color does not exist\")\n",
    "}"
   ]
  },
  {
   "cell_type": "code",
   "execution_count": 50,
   "id": "8b34a745-afc0-4423-9cb9-6101a24feeba",
   "metadata": {},
   "outputs": [
    {
     "name": "stdout",
     "output_type": "stream",
     "text": [
      "Color exists with value 2\n"
     ]
    }
   ],
   "source": [
    "// usual check\n",
    "\n",
    "if value,ok := colorMap[\"green\"];ok{\n",
    "    fmt.Printf(\"Color exists with value %d\\n\",value)\n",
    "}"
   ]
  },
  {
   "cell_type": "markdown",
   "id": "2077f552-a0dd-4f61-a668-2857ac8ce24a",
   "metadata": {},
   "source": [
    "#### Using maps as sets"
   ]
  },
  {
   "cell_type": "code",
   "execution_count": 51,
   "id": "013915c3-b62d-424e-a4cb-457e60b1d994",
   "metadata": {},
   "outputs": [
    {
     "name": "stdout",
     "output_type": "stream",
     "text": [
      "Amar is duplicate\n",
      "Sandeep is duplicate\n"
     ]
    }
   ],
   "source": [
    "set := make(map[string]bool)\n",
    "\n",
    "names := []string{\"Akash\",\"Sandeep\",\"Amar\",\"Prajyot\",\"Pragyan\",\"Amar\",\"Sandeep\"}\n",
    "\n",
    "for _,name := range names{\n",
    "    if v := set[name];v{ // contains check\n",
    "        fmt.Printf(\"%s is duplicate\\n\",name)\n",
    "    }else{\n",
    "        set[name]=true\n",
    "    }\n",
    "}"
   ]
  },
  {
   "cell_type": "markdown",
   "id": "9c952a6c-424f-4a60-b52f-59ac1378645a",
   "metadata": {},
   "source": [
    "### Composite structures"
   ]
  },
  {
   "cell_type": "markdown",
   "id": "b7c49be3-71a5-4b23-a3df-282bb0f3e5b6",
   "metadata": {},
   "source": [
    "#### map of map"
   ]
  },
  {
   "cell_type": "code",
   "execution_count": 52,
   "id": "aa74efa2-4f58-4614-bae9-d0e76b33cd18",
   "metadata": {},
   "outputs": [
    {
     "name": "stdout",
     "output_type": "stream",
     "text": [
      "map[address:map[line1:asfsad] name:map[first:bingal last:dvorchi]]\n",
      "map[negatives:[-1 -2 -3] positives:[1 2 3]]\n",
      "[map[one:1 two:2] map[green:2 red:1]]\n"
     ]
    },
    {
     "data": {
      "text/plain": [
       "38 <nil>"
      ]
     },
     "execution_count": 52,
     "metadata": {},
     "output_type": "execute_result"
    }
   ],
   "source": [
    "// This look very similar to json\n",
    "\n",
    "mapOmap := map[string]map[string]string {\n",
    "    \"name\" :{\n",
    "        \"first\":\"bingal\",\n",
    "        \"last\" : \"dvorchi\",\n",
    "    },\n",
    "    \"address\":{\n",
    "        \"line1\" : \"asfsad\",  \n",
    "    },\n",
    "}\n",
    "\n",
    "fmt.Println(mapOmap)\n",
    "\n",
    "mapOslice := map[string][]int{\n",
    "    \"positives\" : {1,2,3},\n",
    "    \"negatives\" : {-1,-2,-3},\n",
    "}\n",
    "\n",
    "fmt.Println(mapOslice)\n",
    "\n",
    "sliceOmap := []map[string]int{\n",
    "    {\n",
    "        \"one\" :1,\n",
    "        \"two\" : 2,\n",
    "    },\n",
    "    {\n",
    "        \"red\" :1,\n",
    "        \"green\" : 2,\n",
    "    },\n",
    "}\n",
    "\n",
    "fmt.Println(sliceOmap)\n"
   ]
  },
  {
   "cell_type": "markdown",
   "id": "d7f9ce03-cdfb-48d1-8220-d40613b81866",
   "metadata": {},
   "source": [
    "##### Copy by reference"
   ]
  },
  {
   "cell_type": "code",
   "execution_count": 53,
   "id": "7461f4f5-d91f-44dc-beef-de6a0044bede",
   "metadata": {},
   "outputs": [
    {
     "name": "stdout",
     "output_type": "stream",
     "text": [
      "map[1:ONE 2:two]\n"
     ]
    },
    {
     "data": {
      "text/plain": [
       "17 <nil>"
      ]
     },
     "execution_count": 53,
     "metadata": {},
     "output_type": "execute_result"
    }
   ],
   "source": [
    "\n",
    "\n",
    "originalMap := map[int]string {\n",
    "    1 : \"one\",\n",
    "    2 : \"two\",\n",
    "}\n",
    "\n",
    "copiedMap := originalMap\n",
    "\n",
    "copiedMap[1] = \"ONE\" // changes the original map as well\n",
    "\n",
    "fmt.Println(originalMap) "
   ]
  },
  {
   "cell_type": "markdown",
   "id": "627bf7c7-dd5e-4bd7-a61a-db247b472594",
   "metadata": {},
   "source": [
    "### Struct"
   ]
  },
  {
   "cell_type": "code",
   "execution_count": 54,
   "id": "52babbb1-887d-4fb6-a9bb-8e4c46fbf5db",
   "metadata": {},
   "outputs": [
    {
     "name": "stdout",
     "output_type": "stream",
     "text": [
      "{  0}\n"
     ]
    },
    {
     "data": {
      "text/plain": [
       "6 <nil>"
      ]
     },
     "execution_count": 54,
     "metadata": {},
     "output_type": "execute_result"
    }
   ],
   "source": [
    "type Employee struct{\n",
    "    Name,Address string // same type fields can be combined on a single line\n",
    "    Salary int\n",
    "}\n",
    "\n",
    "var vijay Employee\n",
    "\n",
    "fmt.Println(vijay) // all default values"
   ]
  },
  {
   "cell_type": "code",
   "execution_count": 55,
   "id": "c9291a65-baf1-4df1-9754-5f018576b590",
   "metadata": {},
   "outputs": [
    {
     "name": "stdout",
     "output_type": "stream",
     "text": [
      "{Vijay  456}\n"
     ]
    },
    {
     "data": {
      "text/plain": [
       "13 <nil>"
      ]
     },
     "execution_count": 55,
     "metadata": {},
     "output_type": "execute_result"
    }
   ],
   "source": [
    "vijay.Name = \"Vijay\"\n",
    "vijay.Salary = 456\n",
    "\n",
    "fmt.Println(vijay)"
   ]
  },
  {
   "cell_type": "code",
   "execution_count": 56,
   "id": "4bbc0860-3e45-4adf-8d0b-310b18d149ca",
   "metadata": {},
   "outputs": [
    {
     "name": "stdout",
     "output_type": "stream",
     "text": [
      "{Vijay A,89 Parle 456}\n"
     ]
    },
    {
     "data": {
      "text/plain": [
       "23 <nil>"
      ]
     },
     "execution_count": 56,
     "metadata": {},
     "output_type": "execute_result"
    }
   ],
   "source": [
    "address := &vijay.Address\n",
    "\n",
    "*address = \"A,89 Parle\"\n",
    "\n",
    "fmt.Println(vijay)"
   ]
  },
  {
   "cell_type": "markdown",
   "id": "de5b9df5-f5f0-4a74-92ac-b7938eff4840",
   "metadata": {},
   "source": [
    "##### pointer to struct"
   ]
  },
  {
   "cell_type": "code",
   "execution_count": 57,
   "id": "d3ec6c5e-4bb3-4b05-9dbd-4d5e48add5fe",
   "metadata": {},
   "outputs": [
    {
     "name": "stdout",
     "output_type": "stream",
     "text": [
      "A,89 Parle\n",
      "A,89 Parle\n"
     ]
    },
    {
     "data": {
      "text/plain": [
       "11 <nil>"
      ]
     },
     "execution_count": 57,
     "metadata": {},
     "output_type": "execute_result"
    }
   ],
   "source": [
    "vpointer := &vijay\n",
    "\n",
    "fmt.Println((*vpointer).Address)\n",
    "fmt.Println(vpointer.Address) // This is shorthand for pointer above. compiler does implicit *vpointer conversion\n"
   ]
  },
  {
   "cell_type": "code",
   "execution_count": 58,
   "id": "c439c4f2-6d1b-4305-9e60-d04a0959b094",
   "metadata": {},
   "outputs": [],
   "source": [
    "inlinePointer := &Employee{Name: \"Ashok\"} // Forward reference : struct literals"
   ]
  },
  {
   "cell_type": "markdown",
   "id": "993f33d8-e07f-4dee-b170-d13d63d428bf",
   "metadata": {},
   "source": [
    "##### Copy by value\n",
    "all values are copied to the fields of another variable"
   ]
  },
  {
   "cell_type": "code",
   "execution_count": 59,
   "id": "25cf45b6-03ea-4dba-8855-552153201c8c",
   "metadata": {},
   "outputs": [
    {
     "name": "stdout",
     "output_type": "stream",
     "text": [
      "{Vijay A,89 Parle 456}\n"
     ]
    },
    {
     "data": {
      "text/plain": [
       "23 <nil>"
      ]
     },
     "execution_count": 59,
     "metadata": {},
     "output_type": "execute_result"
    }
   ],
   "source": [
    "vijayCopy := vijay // A copy of vijay\n",
    "\n",
    "vijayCopy.Name = \"DigVijay\" // Doesn't modify vijay\n",
    "\n",
    "fmt.Println(vijay) // same as before"
   ]
  },
  {
   "cell_type": "code",
   "execution_count": 60,
   "id": "c50a40a9-66d4-447b-befb-9cc05ccff99a",
   "metadata": {},
   "outputs": [
    {
     "name": "stdout",
     "output_type": "stream",
     "text": [
      "{Vijay A,89 Parle 456}\n",
      "Vijay\n"
     ]
    }
   ],
   "source": [
    "func getEmployee() Employee{\n",
    "    return vijay\n",
    "}\n",
    "\n",
    "fmt.Println(getEmployee())\n",
    "fmt.Println(getEmployee().Name)\n",
    "\n",
    "returnedEmployee := getEmployee() // This is again copy of the value being returned\n",
    "\n",
    "returnedEmployee.Salary = 5645 // doesn't change the original value\n",
    "\n",
    "\n",
    "// getEmployee().Salary = 4563 // getEmployee().Salary evaluates to a value, therefore cannot be assigned, needs to be collected into a variable, \n",
    "// which has address"
   ]
  },
  {
   "cell_type": "markdown",
   "id": "18a05bd3-d683-4e92-b3b7-64494a6ab31d",
   "metadata": {},
   "source": [
    "##### empty struct"
   ]
  },
  {
   "cell_type": "code",
   "execution_count": 61,
   "id": "66ed45f8-dae9-4ed9-8595-0a41ccd0101d",
   "metadata": {},
   "outputs": [],
   "source": [
    "type EmptyStruct struct{}"
   ]
  },
  {
   "cell_type": "markdown",
   "id": "42cbc6e7-20f8-43b3-b017-7a818675951b",
   "metadata": {},
   "source": [
    "##### pointer to newly created struct instance"
   ]
  },
  {
   "cell_type": "code",
   "execution_count": 105,
   "id": "98f83a78-149a-4cdc-a947-c595aad85466",
   "metadata": {},
   "outputs": [],
   "source": [
    "type Person struct{\n",
    "    Name string\n",
    "    Age int\n",
    "}\n",
    "\n",
    "var person *Person = new(Person)  // This is similar to C++ new syntax : it returns pointer to newly created instance"
   ]
  },
  {
   "cell_type": "markdown",
   "id": "91e7e91c-5eec-407d-9289-c9e2cdd9d2e3",
   "metadata": {},
   "source": [
    "##### anonymous empty struct"
   ]
  },
  {
   "cell_type": "code",
   "execution_count": 99,
   "id": "7d471c9a-759c-4758-8889-0aeda05ca83d",
   "metadata": {},
   "outputs": [],
   "source": [
    "emptyStructInstance := struct{}{} // first empty {} is empty struct definition and second {} is empty instantiation"
   ]
  },
  {
   "cell_type": "markdown",
   "id": "6b4f4be5-314d-449a-a7a8-501b9ed49ae0",
   "metadata": {},
   "source": [
    "##### anonymous struct with default values"
   ]
  },
  {
   "cell_type": "code",
   "execution_count": 103,
   "id": "00ae5c57-496e-4302-a32b-f53a043ec139",
   "metadata": {},
   "outputs": [
    {
     "name": "stdout",
     "output_type": "stream",
     "text": [
      "{0 0}\n"
     ]
    },
    {
     "data": {
      "text/plain": [
       "6 <nil>"
      ]
     },
     "execution_count": 103,
     "metadata": {},
     "output_type": "execute_result"
    }
   ],
   "source": [
    "structWithDefaultValues := struct{\n",
    "    X int\n",
    "    Y float64\n",
    "}{}\n",
    "\n",
    "fmt.Println(structWithDefaultValues)"
   ]
  },
  {
   "cell_type": "markdown",
   "id": "4ab63d6a-c116-4af4-b533-eec7ffc44b4c",
   "metadata": {},
   "source": [
    "#### Struct literals"
   ]
  },
  {
   "cell_type": "code",
   "execution_count": 62,
   "id": "ba734e17-776c-4b5f-9f64-4e1925139573",
   "metadata": {},
   "outputs": [
    {
     "name": "stdout",
     "output_type": "stream",
     "text": [
      "{255 0 0} {255 255 0}\n"
     ]
    },
    {
     "data": {
      "text/plain": [
       "22 <nil>"
      ]
     },
     "execution_count": 62,
     "metadata": {},
     "output_type": "execute_result"
    }
   ],
   "source": [
    "type Color struct{ R,G,B int}\n",
    "\n",
    "red := Color{255,0,0} // All values are required to be specified\n",
    "\n",
    "yellow := Color{R: 255, G:255} // B has default 0 value\n",
    "\n",
    "fmt.Println(red,yellow)"
   ]
  },
  {
   "cell_type": "markdown",
   "id": "960c1b51-f5a0-4544-b39c-0bf8fd3a6692",
   "metadata": {},
   "source": [
    "#### Anonymous structs"
   ]
  },
  {
   "cell_type": "code",
   "execution_count": 78,
   "id": "2bdfeb11-66e2-4c5a-8ccb-60b3be307429",
   "metadata": {},
   "outputs": [
    {
     "name": "stdout",
     "output_type": "stream",
     "text": [
      "{{0 255 0} 456}\n"
     ]
    },
    {
     "data": {
      "text/plain": [
       "16 <nil>"
      ]
     },
     "execution_count": 78,
     "metadata": {},
     "output_type": "execute_result"
    }
   ],
   "source": [
    "var seg = struct{ // declaration without name\n",
    "    Color\n",
    "    Price int\n",
    "}{{0,255,0},456} // define an instance\n",
    "\n",
    "\n",
    "fmt.Println(seg)"
   ]
  },
  {
   "cell_type": "markdown",
   "id": "7958c72b-023b-405a-954b-18285a54b741",
   "metadata": {},
   "source": [
    "#### Recursive struct definition\n",
    "\n",
    "In GO, the size of yet-not-defined struct is not known at the declaration time, therefore we need to use \n",
    "pointer to the struct itself for recursive relations"
   ]
  },
  {
   "cell_type": "code",
   "execution_count": 63,
   "id": "8356cbc2-23af-4a04-915c-69d5ae4ce063",
   "metadata": {},
   "outputs": [],
   "source": [
    "type Node struct{\n",
    "    Value int\n",
    "    Left *Node\n",
    "    Right *Node\n",
    "}"
   ]
  },
  {
   "cell_type": "code",
   "execution_count": 64,
   "id": "0bc0b039-4c64-4bc8-ad91-930ccd3002cf",
   "metadata": {},
   "outputs": [],
   "source": [
    "var node Node"
   ]
  },
  {
   "cell_type": "code",
   "execution_count": 65,
   "id": "3e709bd5-e56a-47d1-8927-999b8c9b8df4",
   "metadata": {},
   "outputs": [
    {
     "name": "stdout",
     "output_type": "stream",
     "text": [
      "{0 <nil> <nil>}\n"
     ]
    },
    {
     "data": {
      "text/plain": [
       "16 <nil>"
      ]
     },
     "execution_count": 65,
     "metadata": {},
     "output_type": "execute_result"
    }
   ],
   "source": [
    "fmt.Println(node)"
   ]
  },
  {
   "cell_type": "code",
   "execution_count": 66,
   "id": "8fe23097-e53c-45d4-a5c3-cc65733a08b2",
   "metadata": {},
   "outputs": [
    {
     "name": "stdout",
     "output_type": "stream",
     "text": [
      "{0 0xc0005f4ed0 <nil>}\n"
     ]
    },
    {
     "data": {
      "text/plain": [
       "23 <nil>"
      ]
     },
     "execution_count": 66,
     "metadata": {},
     "output_type": "execute_result"
    }
   ],
   "source": [
    "var leftNode Node\n",
    "node.Left = &leftNode\n",
    "\n",
    "fmt.Println(node)"
   ]
  },
  {
   "cell_type": "markdown",
   "id": "0b9a6c70-ecfe-439d-b054-39c643ca2528",
   "metadata": {},
   "source": [
    "#### Comparing structs\n",
    "\n",
    "NOTE: this is only applicable for the structs having all comparable (with ==) fields "
   ]
  },
  {
   "cell_type": "code",
   "execution_count": 67,
   "id": "7aa93592-e7df-4d9e-a0b8-9b10b3005b71",
   "metadata": {},
   "outputs": [
    {
     "name": "stdout",
     "output_type": "stream",
     "text": [
      "true\n",
      "false\n"
     ]
    },
    {
     "data": {
      "text/plain": [
       "6 <nil>"
      ]
     },
     "execution_count": 67,
     "metadata": {},
     "output_type": "execute_result"
    }
   ],
   "source": [
    "\n",
    "fmt.Println(Color{B:255}==Color{B:255})\n",
    "fmt.Println(red==yellow)"
   ]
  },
  {
   "cell_type": "markdown",
   "id": "b570c143-6929-4227-b60b-0bf9a9a40183",
   "metadata": {},
   "source": [
    "#### Slice of struct"
   ]
  },
  {
   "cell_type": "code",
   "execution_count": 133,
   "id": "4e5cefef-a6fe-4db9-873a-3dd5cafc94e5",
   "metadata": {},
   "outputs": [
    {
     "ename": "ERROR",
     "evalue": "repl.go:8:19: expected 1 expression",
     "output_type": "error",
     "traceback": [
      "repl.go:8:19: expected 1 expression"
     ]
    }
   ],
   "source": [
    "type Book struct{\n",
    "    Name string\n",
    "    Pages int\n",
    "    Author string\n",
    "}\n",
    "\n",
    "// Sample pointer to struct declaration\n",
    "var book *Book = &Book{\"Effective Java\",234,\"Doug Leu\"}\n",
    "\n",
    "library := []*Book{\n",
    "    {\"The Go programming language\",340,\"Kelvin\"}, // Note the type of the struct is inferred from slice type\n",
    "    {\"Effective Java\",234,\"Joshua Bloch\"},// Note the type of slice is *Book, this struct literal is acceptable\n",
    "}\n",
    "\n",
    "for _,book := range library{\n",
    "    fmt.Println(book.Author)\n",
    "}"
   ]
  },
  {
   "cell_type": "markdown",
   "id": "1f3b90bf-ff56-4b02-adce-8b5b5ac34c7c",
   "metadata": {},
   "source": [
    "#### Anonymous Embedding of fields"
   ]
  },
  {
   "cell_type": "code",
   "execution_count": 68,
   "id": "7bff1870-494b-4018-a0ed-44bfd6a7c270",
   "metadata": {},
   "outputs": [
    {
     "name": "stdout",
     "output_type": "stream",
     "text": [
      "{23 34 {234 123 345}}\n"
     ]
    },
    {
     "data": {
      "text/plain": [
       "22 <nil>"
      ]
     },
     "execution_count": 68,
     "metadata": {},
     "output_type": "execute_result"
    }
   ],
   "source": [
    "type Point struct{\n",
    "    X,Y int\n",
    "    Color // note : no var name given, it is implicitly same as the name of the struct, this is embedded field\n",
    "}\n",
    "\n",
    "var p Point\n",
    "p.X = 23\n",
    "p.Y =34\n",
    "p.Color.R = 234 \n",
    "p.G = 123 // Now directly accessible, this is same as above but more convinient\n",
    "p.B = 345\n",
    "\n",
    "fmt.Println(p)\n",
    "\n"
   ]
  },
  {
   "cell_type": "markdown",
   "id": "2349287a-1aee-453a-927d-07834adf0065",
   "metadata": {},
   "source": [
    "##### Literal declaration"
   ]
  },
  {
   "cell_type": "code",
   "execution_count": 69,
   "id": "22cdfc68-5bb6-4e64-86ff-5caf58c48cd5",
   "metadata": {},
   "outputs": [],
   "source": [
    "inlinePoint  := Point{34,45,Color{123,112,233}} // Values given in declaration order\n",
    "\n",
    "verbosePoint := Point{Color:Color{0,0,0},Y:45,X:78} // All field names explicitly called out"
   ]
  },
  {
   "cell_type": "code",
   "execution_count": null,
   "id": "f0694196-70fe-4592-8afc-f08ca2f691eb",
   "metadata": {},
   "outputs": [],
   "source": []
  },
  {
   "cell_type": "markdown",
   "id": "e79f8f72-29f6-4bd6-ab2a-99d9f9ffad53",
   "metadata": {},
   "source": [
    "#### TODO : JSON and Templates"
   ]
  },
  {
   "cell_type": "code",
   "execution_count": null,
   "id": "0ee57cd7-b6b1-447e-b8e7-33eb300677e2",
   "metadata": {},
   "outputs": [],
   "source": []
  }
 ],
 "metadata": {
  "kernelspec": {
   "display_name": "Go",
   "language": "go",
   "name": "gophernotes"
  },
  "language_info": {
   "codemirror_mode": "",
   "file_extension": ".go",
   "mimetype": "",
   "name": "go",
   "nbconvert_exporter": "",
   "pygments_lexer": "",
   "version": "go1.15.6"
  }
 },
 "nbformat": 4,
 "nbformat_minor": 5
}
