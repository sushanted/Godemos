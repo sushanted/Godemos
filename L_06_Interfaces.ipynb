{
 "cells": [
  {
   "cell_type": "code",
   "execution_count": 1,
   "id": "49faef47-d8d8-4a19-803a-50c649ceaa96",
   "metadata": {},
   "outputs": [],
   "source": [
    "import \"fmt\"\n",
    "import \"io\"\n",
    "import \"os\"\n",
    "import \"bytes\"\n",
    "import \"time\""
   ]
  },
  {
   "cell_type": "markdown",
   "id": "fb1e7f24-9dfe-448e-aea6-23b7ffd5a0d1",
   "metadata": {},
   "source": [
    "#### Interface assignability"
   ]
  },
  {
   "cell_type": "code",
   "execution_count": 2,
   "id": "c2267118-05e1-44b2-ad70-84de1f585dec",
   "metadata": {},
   "outputs": [],
   "source": [
    "var w io.Writer // Writer is an interface\n",
    "w = os.Stdout // os.File has write method\n",
    "w = new(bytes.Buffer) \n",
    " // w = time.Second // compilation failure\n",
    "\n",
    "//cannot convert typed constant 1s <time.Duration> to <io.Writer>\n",
    "//\treason: time.Duration does not implement io.Writer: missing method \n",
    "// func (interface{Write(p []uint8) (n int, err error)}).Write(p []uint8) (n int, err error)"
   ]
  },
  {
   "cell_type": "code",
   "execution_count": 3,
   "id": "18448c85-bbfd-458f-9c84-6cf59b2956a7",
   "metadata": {},
   "outputs": [
    {
     "name": "stdout",
     "output_type": "stream",
     "text": [
      "Square with side 4\n"
     ]
    },
    {
     "data": {
      "text/plain": [
       "19 <nil>"
      ]
     },
     "execution_count": 3,
     "metadata": {},
     "output_type": "execute_result"
    }
   ],
   "source": [
    "type Point struct{X,Y int}\n",
    "\n",
    "type Circle struct{\n",
    "    Center Point\n",
    "    Radius int\n",
    "}\n",
    "\n",
    "type Square struct{\n",
    "    Side int\n",
    "}\n",
    "\n",
    "func (circle *Circle) String() string{\n",
    "    return fmt.Sprintf(\"Circle at %v with radius %d\",circle.Center,circle.Radius)\n",
    "}\n",
    "\n",
    "func (square Square) String() string{\n",
    "    return fmt.Sprintf(\"Square with side %d\",square.Side)\n",
    "}\n",
    "\n",
    "var stringer fmt.Stringer \n",
    "\n",
    "circle := Circle{Point{3,4},6}\n",
    "\n",
    "// stringer = &circle // Need &circle because the receiver type in String() is *Circle\n",
    "\n",
    "// fmt.Println(stringer.String()) // This works in GoLand but not here!!\n",
    "\n",
    "stringer = Square{4}\n",
    "\n",
    "fmt.Println(stringer.String()) // Can only call the interface methods"
   ]
  },
  {
   "cell_type": "markdown",
   "id": "681c7b2b-7482-402c-85fd-fb4677445d23",
   "metadata": {},
   "source": [
    "#### Empty interface "
   ]
  },
  {
   "cell_type": "code",
   "execution_count": 4,
   "id": "5cb0fcd7-70cf-421a-90e1-2d155c5904e5",
   "metadata": {},
   "outputs": [
    {
     "name": "stdout",
     "output_type": "stream",
     "text": [
      "<nil> <nil>\n",
      "int 45\n",
      "float64 45.56\n",
      "[]int [4 5 6]\n",
      "struct { Center struct { X int; Y int }; Radius int } {{1 2} 6}\n",
      "<nil> <nil>\n"
     ]
    },
    {
     "data": {
      "text/plain": [
       "12 <nil>"
      ]
     },
     "execution_count": 4,
     "metadata": {},
     "output_type": "execute_result"
    }
   ],
   "source": [
    "var emptyIFace interface{} // This is like Object type in java\n",
    "fmt.Printf(\"%T %v\\n\",emptyIFace,emptyIFace) // The type is nil as well as the value\n",
    "\n",
    "emptyIFace = 45\n",
    "fmt.Printf(\"%T %v\\n\",emptyIFace,emptyIFace)\n",
    "\n",
    "emptyIFace = 45.56\n",
    "fmt.Printf(\"%T %v\\n\",emptyIFace,emptyIFace)\n",
    "\n",
    "emptyIFace = []int{4,5,6}\n",
    "fmt.Printf(\"%T %v\\n\",emptyIFace,emptyIFace)\n",
    "\n",
    "emptyIFace = Circle{Point{1,2},6}\n",
    "fmt.Printf(\"%T %v\\n\",emptyIFace,emptyIFace)\n",
    "\n",
    "emptyIFace = nil\n",
    "fmt.Printf(\"%T %v\\n\",emptyIFace,emptyIFace) // Again type is nil as well as the value\n"
   ]
  },
  {
   "cell_type": "markdown",
   "id": "75858c42-9a62-493d-a0cc-8841001cfb99",
   "metadata": {},
   "source": [
    "#### interface value comparision\n",
    "\n",
    "comparing interfaces with uncomparable types causes panic"
   ]
  },
  {
   "cell_type": "code",
   "execution_count": 5,
   "id": "0544fa08-ffe9-463f-b9d4-ca6ac41ee772",
   "metadata": {},
   "outputs": [
    {
     "name": "stdout",
     "output_type": "stream",
     "text": [
      "true\n",
      "false\n"
     ]
    }
   ],
   "source": [
    "var iface1 interface{}\n",
    "var iface2 interface{}\n",
    "\n",
    "fmt.Println(iface1==iface2) // both are nil\n",
    "\n",
    "iface1 = Point{2,3}\n",
    "iface2 = Point{3,4}\n",
    "\n",
    "fmt.Println(iface1==iface2) // false: different values\n",
    "\n",
    "iface1 = []int{1,2,3}\n",
    "iface2 = []int{3,4,5}\n",
    "\n",
    "//fmt.Println(iface1==iface2) // comparing uncomparable type []int"
   ]
  },
  {
   "cell_type": "markdown",
   "id": "65c497fd-a6aa-423c-a18f-2b785c26a6c0",
   "metadata": {},
   "source": [
    "#### nil reference inside a non nil interface\n",
    "\n",
    "<a href=\"L_06_Interfaces/InterfaceNilReference.go\">Nil reference inside interface</a>"
   ]
  },
  {
   "cell_type": "code",
   "execution_count": 6,
   "id": "a8012f08-848e-4987-844b-a2629b4d3197",
   "metadata": {},
   "outputs": [
    {
     "ename": "ERROR",
     "evalue": "repl.go:18:1: error compiling assignment: personInfo = person\n\trepl.go:18:1: cannot convert type <*main.Person> to interface <fmt.Stringer>: missing method  String",
     "output_type": "error",
     "traceback": [
      "repl.go:18:1: error compiling assignment: personInfo = person\n\trepl.go:18:1: cannot convert type <*main.Person> to interface <fmt.Stringer>: missing method  String"
     ]
    }
   ],
   "source": [
    "// Try this in GoLand\n",
    "\n",
    "type Person struct{\n",
    "    Name string\n",
    "    Age int\n",
    "}\n",
    "\n",
    "func (person *Person) String() string{\n",
    "    return fmt.Sprintf(\"%s has age %d\",person.Name,person.Age)\n",
    "}\n",
    "\n",
    "var person *Person\n",
    "\n",
    "fmt.Printf(\"%T %v\\n\",person,person) // *main.Person <nil>\n",
    "\n",
    "var personInfo fmt.Stringer\n",
    "\n",
    "personInfo = person // NOT to ever assign nil reference to an interface, better use reference in first place\n",
    "\n",
    "fmt.Printf(\"%T %v\\n\",personInfo,personInfo) // *main.Person <nil>\n",
    "\n",
    "if person != nil { // This check works\n",
    "    fmt.Println(person.String())\n",
    "}\n",
    "\n",
    "fmt.Println(\"Trying with interface\")\n",
    "\n",
    "if personInfo != nil { // This check doesn't work, the personInfo is not nil but the reference to person it contains is nil\n",
    "    fmt.Println(personInfo.String())\n",
    "}\n",
    "\n",
    "// panic: runtime error: invalid memory address or nil pointer dereference\n"
   ]
  },
  {
   "cell_type": "markdown",
   "id": "fd1f233c-0770-453b-aca8-33330c54512e",
   "metadata": {},
   "source": [
    "#### Interface declaration and satisfaction"
   ]
  },
  {
   "cell_type": "code",
   "execution_count": 7,
   "id": "8335fab1-dc60-4d8c-b299-fe34ece3d127",
   "metadata": {},
   "outputs": [
    {
     "ename": "ERROR",
     "evalue": "reflect.Value.Convert: value of type float64 cannot be converted to type *struct { 𒀪 xreflect.InterfaceHeader; Area func() float64 }",
     "output_type": "error",
     "traceback": [
      "reflect.Value.Convert: value of type float64 cannot be converted to type *struct { 𒀪 xreflect.InterfaceHeader; Area func() float64 }"
     ]
    }
   ],
   "source": [
    "type Shape interface {\n",
    "\tArea() float64\n",
    "}\n",
    "\n",
    "type Line struct{}\n",
    "\n",
    "// Interface satisfied by an empty struct\n",
    "func (line Line) Area() float64 {\n",
    "\treturn 0.0\n",
    "}\n",
    "\n",
    "type Circle float64\n",
    "\n",
    "// Interface satisfied by a float64\n",
    "func (radius Circle) Area() float64 {\n",
    "\treturn float64(radius * radius * (22.0 / 7.0))\n",
    "}\n",
    "\n",
    "type Triangle struct {\n",
    "\tBase   float64\n",
    "\tHeight float64\n",
    "}\n",
    "\n",
    "// Interface satisfied by a triangle\n",
    "func (t Triangle) Area() float64 {\n",
    "\treturn t.Base * t.Height * 0.5\n",
    "}\n",
    "\n",
    "shapes := []Shape{Line{}, Circle(7), Triangle{3, 6}}\n",
    "\n",
    "for _, shape := range shapes {\n",
    "    fmt.Printf(\"Area of %T is %v\\n\", shape, shape.Area())\n",
    "}\n",
    "\n",
    "\n"
   ]
  },
  {
   "cell_type": "markdown",
   "id": "d2a1e966-f292-4f11-9ddd-738141df853d",
   "metadata": {},
   "source": [
    "Output:\n",
    "\n",
    "Area of main.Line is 0  \n",
    "Area of main.Circle is 154  \n",
    "Area of main.Triangle is 9  \n"
   ]
  },
  {
   "cell_type": "markdown",
   "id": "3b8998e6-e32f-4e30-8d72-f72c622b0cf0",
   "metadata": {},
   "source": [
    "#### Generics Types in GO\n",
    "\n",
    "go doesn't support generics, but follows an impl similar to generics\n"
   ]
  },
  {
   "cell_type": "markdown",
   "id": "d5335d3c-b222-4ca6-8247-21e45b102a1b",
   "metadata": {},
   "source": [
    "<a href=\"L_06_Interfaces/TreeImpl.go\">Generic Tree traversal</a>"
   ]
  },
  {
   "cell_type": "markdown",
   "id": "88b9cf6a-f748-4944-87c7-a679e6fb2c03",
   "metadata": {},
   "source": [
    "#### Sorts"
   ]
  },
  {
   "cell_type": "code",
   "execution_count": 8,
   "id": "e48d87a3-7edb-4c96-85a5-e970e66f3f5b",
   "metadata": {},
   "outputs": [
    {
     "name": "stdout",
     "output_type": "stream",
     "text": [
      "[1 3 4 5]\n"
     ]
    },
    {
     "data": {
      "text/plain": [
       "10 <nil>"
      ]
     },
     "execution_count": 8,
     "metadata": {},
     "output_type": "execute_result"
    }
   ],
   "source": [
    "import \"sort\"\n",
    "\n",
    "ints := []int{3,1,4,5}\n",
    "\n",
    "sort.Ints(ints)\n",
    "\n",
    "fmt.Println(ints)"
   ]
  },
  {
   "cell_type": "markdown",
   "id": "47091e4b-f76a-46fc-8f72-c9cd16a7efd4",
   "metadata": {},
   "source": [
    "<a href=\"L_06_Interfaces/SortInterface.go\">Sort interface</a>"
   ]
  },
  {
   "cell_type": "markdown",
   "id": "39bbdb96-7d4d-4454-b788-421d486f8c0d",
   "metadata": {},
   "source": [
    "#### TODO : Error interface and creating errors"
   ]
  },
  {
   "cell_type": "markdown",
   "id": "1bdff4b4-6b30-45f1-a55b-eb58f9d0b299",
   "metadata": {},
   "source": [
    "#### Type assertions\n",
    "\n",
    "NOTE : .(Goat) and .(\\*Goat) are  different types and need to be asserted differently\n",
    "\n",
    "The interface can  point to any of them"
   ]
  },
  {
   "cell_type": "code",
   "execution_count": 9,
   "id": "68f330b0-c166-4579-858e-82328f9d8ec5",
   "metadata": {},
   "outputs": [],
   "source": [
    "// Premise\n",
    "\n",
    "type Animal interface {\n",
    "\tSound() string\n",
    "}\n",
    "\n",
    "type Herbivore interface{\n",
    "    Sound() string\n",
    "    Herbs() string\n",
    "}\n",
    "\n",
    "type Goat struct {\n",
    "\tName string\n",
    "}\n",
    "\n",
    "func (goat Goat) Sound() string {\n",
    "\treturn \"ba\"\n",
    "}\n",
    "\n",
    "func (goat Goat) Herbs() string {\n",
    "\treturn \"hay\"\n",
    "}\n",
    "\n"
   ]
  },
  {
   "cell_type": "code",
   "execution_count": 10,
   "id": "350f5232-8d38-45e2-bdb9-c30edb0c76c0",
   "metadata": {},
   "outputs": [
    {
     "name": "stdout",
     "output_type": "stream",
     "text": [
      "aba\n"
     ]
    },
    {
     "data": {
      "text/plain": [
       "4 <nil>"
      ]
     },
     "execution_count": 10,
     "metadata": {},
     "output_type": "execute_result"
    }
   ],
   "source": [
    "var animal Animal = Goat{\"aba\"}\n",
    "\n",
    "goat := animal.(Goat)\n",
    "\n",
    "fmt.Println(goat.Name) // now can directly use .Name"
   ]
  },
  {
   "cell_type": "code",
   "execution_count": 11,
   "id": "d148644a-ede3-4436-9a90-1f7cbffeb460",
   "metadata": {},
   "outputs": [
    {
     "name": "stdout",
     "output_type": "stream",
     "text": [
      "ababa\n"
     ]
    },
    {
     "data": {
      "text/plain": [
       "6 <nil>"
      ]
     },
     "execution_count": 11,
     "metadata": {},
     "output_type": "execute_result"
    }
   ],
   "source": [
    "var animalPointer Animal = &Goat{\"ababa\"} // The interface can point to a pointer as well\n",
    "\n",
    "goatPointer := animalPointer.(*Goat) // The conversion here should be with a pointer\n",
    "\n",
    "fmt.Println(goatPointer.Name)"
   ]
  },
  {
   "cell_type": "code",
   "execution_count": 12,
   "id": "108263d8-fcb7-480f-ae17-d2f17ed34b20",
   "metadata": {},
   "outputs": [
    {
     "ename": "ERROR",
     "evalue": "reflect: non-interface type passed to Type.Implements",
     "output_type": "error",
     "traceback": [
      "reflect: non-interface type passed to Type.Implements"
     ]
    }
   ],
   "source": [
    "var animal Animal = Goat{\"bababa\"}\n",
    "\n",
    "herbAnimal := animal.(Herbivore)\n",
    "\n",
    "fmt.Println(herbAnimal.Herbs())  // Works in goland"
   ]
  },
  {
   "cell_type": "markdown",
   "id": "022f6d80-8dd8-470b-a751-c9fea59a6bb3",
   "metadata": {},
   "source": [
    "hay"
   ]
  }
 ],
 "metadata": {
  "kernelspec": {
   "display_name": "Go",
   "language": "go",
   "name": "gophernotes"
  },
  "language_info": {
   "codemirror_mode": "",
   "file_extension": ".go",
   "mimetype": "",
   "name": "go",
   "nbconvert_exporter": "",
   "pygments_lexer": "",
   "version": "go1.15.6"
  }
 },
 "nbformat": 4,
 "nbformat_minor": 5
}
