{
 "cells": [
  {
   "cell_type": "code",
   "execution_count": 1,
   "id": "8b452d99-2200-45e6-9709-44200ae5798d",
   "metadata": {},
   "outputs": [],
   "source": [
    "import \"fmt\""
   ]
  },
  {
   "cell_type": "markdown",
   "id": "3d9218ac-25b3-4fed-93b3-d26d406e4470",
   "metadata": {},
   "source": [
    "#### Declarations and assignments"
   ]
  },
  {
   "cell_type": "markdown",
   "id": "008cc378-9d75-46ed-9da0-c001f49108aa",
   "metadata": {},
   "source": [
    "##### const "
   ]
  },
  {
   "cell_type": "code",
   "execution_count": 2,
   "id": "ac4fbfde-8d96-4703-9115-b0aead792849",
   "metadata": {},
   "outputs": [],
   "source": [
    "const constString string = \"hello\" // must be declared eagerly"
   ]
  },
  {
   "cell_type": "code",
   "execution_count": 3,
   "id": "06a6d9cb-f9ea-498b-9798-936eb94a5818",
   "metadata": {},
   "outputs": [],
   "source": [
    "const constInt int = 90\n",
    "// i = 90  // obviously not allowed as assignement to a const"
   ]
  },
  {
   "cell_type": "markdown",
   "id": "87a8d8c7-aa84-4151-bb2f-2f60b39c77c5",
   "metadata": {},
   "source": [
    "##### var"
   ]
  },
  {
   "cell_type": "code",
   "execution_count": 4,
   "id": "f5aa9bbb-be1e-41ea-b8b5-77fbbb45df9e",
   "metadata": {},
   "outputs": [],
   "source": [
    "var varString string"
   ]
  },
  {
   "cell_type": "code",
   "execution_count": 5,
   "id": "a39ba7f7-b460-4145-bb2e-ce72a3274c79",
   "metadata": {},
   "outputs": [],
   "source": [
    "var varStringInitialized = \"this var is eagerly initialized\" // data type inferred, no explicit declaration needed"
   ]
  },
  {
   "cell_type": "code",
   "execution_count": 6,
   "id": "50bd667f-5eff-4aca-86a2-b6283a24b319",
   "metadata": {},
   "outputs": [],
   "source": [
    "varString = \"this var is late initialized\""
   ]
  },
  {
   "cell_type": "code",
   "execution_count": 7,
   "id": "afcb85c8-7d6f-44df-a84a-0054703e5764",
   "metadata": {},
   "outputs": [
    {
     "name": "stdout",
     "output_type": "stream",
     "text": [
      "this var is late initialized this var is eagerly initialized\n"
     ]
    },
    {
     "data": {
      "text/plain": [
       "61 <nil>"
      ]
     },
     "execution_count": 7,
     "metadata": {},
     "output_type": "execute_result"
    }
   ],
   "source": [
    "fmt.Println(varString,varStringInitialized)"
   ]
  },
  {
   "cell_type": "code",
   "execution_count": 8,
   "id": "de08252a-fe96-453a-9f2c-2a91c959484f",
   "metadata": {},
   "outputs": [],
   "source": [
    "// Single line initialization of muiltiple variables\n",
    "\n",
    "var a,b ,c int\n",
    "// var a,b string, c int // not allowed, should be of same type"
   ]
  },
  {
   "cell_type": "code",
   "execution_count": 9,
   "id": "b3baa44b-b7c7-4a33-86d6-64f7b0d9aa4a",
   "metadata": {},
   "outputs": [],
   "source": [
    "var x,y,z = true, 23, \"string\""
   ]
  },
  {
   "cell_type": "code",
   "execution_count": 10,
   "id": "3e64db74-611f-4077-81cd-10f6733e36ef",
   "metadata": {},
   "outputs": [
    {
     "name": "stdout",
     "output_type": "stream",
     "text": [
      "true 23 string\n"
     ]
    },
    {
     "data": {
      "text/plain": [
       "15 <nil>"
      ]
     },
     "execution_count": 10,
     "metadata": {},
     "output_type": "execute_result"
    }
   ],
   "source": [
    "fmt.Println(x,y,z)"
   ]
  },
  {
   "cell_type": "code",
   "execution_count": 11,
   "id": "57008df8-0e75-4aa4-a7a9-c6d4af09e9c9",
   "metadata": {},
   "outputs": [],
   "source": [
    "var floatA float32 = 100  // explicit declaration because inferred type is not desired"
   ]
  },
  {
   "cell_type": "markdown",
   "id": "fc854c33-829d-4fde-8329-2d9ccacdefae",
   "metadata": {},
   "source": [
    "##### Short variable declaration with initialization : saves typing \"var\"\n",
    "\n",
    "Note : this works only for local variables not for package level variables"
   ]
  },
  {
   "cell_type": "code",
   "execution_count": 12,
   "id": "77631334-7f54-4df1-8182-142e122098f7",
   "metadata": {},
   "outputs": [],
   "source": [
    "intA := 23 // equivalent to var intA int  = 23 , type is inferred from the RHS"
   ]
  },
  {
   "cell_type": "code",
   "execution_count": 13,
   "id": "cb7ed32c-a4a6-4a19-b35b-40d35b6251e5",
   "metadata": {},
   "outputs": [
    {
     "name": "stdout",
     "output_type": "stream",
     "text": [
      "34 hello\n"
     ]
    },
    {
     "data": {
      "text/plain": [
       "9 <nil>"
      ]
     },
     "execution_count": 13,
     "metadata": {},
     "output_type": "execute_result"
    }
   ],
   "source": [
    "intA, stringS := 34,\"hello\"\n",
    "\n",
    "fmt.Println(intA,stringS)"
   ]
  },
  {
   "cell_type": "markdown",
   "id": "5765a52e-71bb-4262-8e8c-5113e64252b3",
   "metadata": {},
   "source": [
    "##### Multiple variable declaration"
   ]
  },
  {
   "cell_type": "code",
   "execution_count": 14,
   "id": "67b6f1c6-3b8e-45d0-b7ed-e572fff1a270",
   "metadata": {},
   "outputs": [
    {
     "name": "stdout",
     "output_type": "stream",
     "text": [
      "abcd\n"
     ]
    }
   ],
   "source": [
    "bytesWritten,err := fmt.Println(\"abcd\") // Println returns two values"
   ]
  },
  {
   "cell_type": "code",
   "execution_count": 15,
   "id": "9b16219f-94e0-4c79-ac09-b29dfdec71a7",
   "metadata": {},
   "outputs": [
    {
     "name": "stdout",
     "output_type": "stream",
     "text": [
      "5\n"
     ]
    },
    {
     "data": {
      "text/plain": [
       "2 <nil>"
      ]
     },
     "execution_count": 15,
     "metadata": {},
     "output_type": "execute_result"
    }
   ],
   "source": [
    "fmt.Println(bytesWritten)"
   ]
  },
  {
   "cell_type": "markdown",
   "id": "7259f651-e02d-460f-9c93-f9963a7f0d0e",
   "metadata": {},
   "source": [
    "##### re-assignment while another declaration"
   ]
  },
  {
   "cell_type": "code",
   "execution_count": 16,
   "id": "686b6f5c-225e-4b89-98a8-37b85c2ff44a",
   "metadata": {},
   "outputs": [
    {
     "name": "stdout",
     "output_type": "stream",
     "text": [
      "23 24 35\n"
     ]
    },
    {
     "data": {
      "text/plain": [
       "9 <nil>"
      ]
     },
     "execution_count": 16,
     "metadata": {},
     "output_type": "execute_result"
    }
   ],
   "source": [
    "firstInt, secondInt := 23,34\n",
    "secondInt, thirdInt := 24,35  // secondInt is re-assigned not re-declared\n",
    "\n",
    "fmt.Println(firstInt,secondInt,thirdInt)"
   ]
  },
  {
   "cell_type": "code",
   "execution_count": 17,
   "id": "c5efda60-0c9a-4b5f-9206-ae6f1574d0ce",
   "metadata": {},
   "outputs": [
    {
     "name": "stdout",
     "output_type": "stream",
     "text": [
      "21 31 35\n"
     ]
    },
    {
     "data": {
      "text/plain": [
       "9 <nil>"
      ]
     },
     "execution_count": 17,
     "metadata": {},
     "output_type": "execute_result"
    }
   ],
   "source": [
    "\n",
    "firstInt, secondInt := 21,31\n",
    "fmt.Println(firstInt,secondInt,thirdInt)"
   ]
  },
  {
   "cell_type": "markdown",
   "id": "939f63c8-9205-47df-9c89-76f79a316551",
   "metadata": {},
   "source": [
    "#### Pointers"
   ]
  },
  {
   "cell_type": "markdown",
   "id": "068b8014-6901-4105-8f19-13180b9c33e1",
   "metadata": {},
   "source": [
    "Pointers can be considered as AtomicReference in java\n",
    "\n",
    " ar := &variable => AtomicReference ar = new AtomicReference(variable);  \n",
    "\n",
    "ar.get() => *ar  \n",
    "ar.set(34) => *ar = 34\n",
    "\n"
   ]
  },
  {
   "cell_type": "code",
   "execution_count": 18,
   "id": "ac991f15-d554-4e0c-a65b-800b4ae39b55",
   "metadata": {},
   "outputs": [
    {
     "name": "stdout",
     "output_type": "stream",
     "text": [
      "0xc0004d6030\n",
      "0xc0004d6030\n",
      "23\n",
      "34 == 34\n"
     ]
    },
    {
     "data": {
      "text/plain": [
       "9 <nil>"
      ]
     },
     "execution_count": 18,
     "metadata": {},
     "output_type": "execute_result"
    }
   ],
   "source": [
    "intA := 23\n",
    "\n",
    "fmt.Println(&intA) // Address of intA\n",
    "\n",
    "p := &intA\n",
    "\n",
    "fmt.Println(p) // Address of intA\n",
    "\n",
    "fmt.Println(*p) // value at address p\n",
    "\n",
    "*p = 34 // change the value at the address p\n",
    "\n",
    "fmt.Println(*p ,\"==\",intA)\n"
   ]
  },
  {
   "cell_type": "code",
   "execution_count": 19,
   "id": "f29522e6-55cc-4d16-be27-35034926ae3b",
   "metadata": {},
   "outputs": [],
   "source": [
    "var nilPointer *int"
   ]
  },
  {
   "cell_type": "code",
   "execution_count": 20,
   "id": "18edbf83-7f93-4480-a971-e9597b40fa4e",
   "metadata": {},
   "outputs": [
    {
     "name": "stdout",
     "output_type": "stream",
     "text": [
      "<nil> true\n"
     ]
    },
    {
     "data": {
      "text/plain": [
       "11 <nil>"
      ]
     },
     "execution_count": 20,
     "metadata": {},
     "output_type": "execute_result"
    }
   ],
   "source": [
    "fmt.Println(nilPointer, nilPointer==nil)"
   ]
  },
  {
   "cell_type": "markdown",
   "id": "89ca0c30-ceae-4ca0-93a4-359ade3d32d8",
   "metadata": {},
   "source": [
    "A function can safely return pointer to a locally declared variable"
   ]
  },
  {
   "cell_type": "code",
   "execution_count": 21,
   "id": "210a0e3f-01c7-480a-b7ea-8b3ca77a4010",
   "metadata": {},
   "outputs": [
    {
     "name": "stdout",
     "output_type": "stream",
     "text": [
      "0xc0005c35a8 34\n",
      "false\n"
     ]
    },
    {
     "data": {
      "text/plain": [
       "6 <nil>"
      ]
     },
     "execution_count": 21,
     "metadata": {},
     "output_type": "execute_result"
    }
   ],
   "source": [
    "func returnPointer() *int{\n",
    "    local := 34\n",
    "    return &local\n",
    "}\n",
    "\n",
    "p := returnPointer()\n",
    "\n",
    "fmt.Println(p,*p)\n",
    "\n",
    "fmt.Println(returnPointer()==returnPointer()) // always false because new local variable created each time\n"
   ]
  },
  {
   "cell_type": "markdown",
   "id": "a392cbff-4b19-4a18-9e26-fea5791cc0b4",
   "metadata": {},
   "source": [
    "#### Assignments"
   ]
  },
  {
   "cell_type": "code",
   "execution_count": 22,
   "id": "d076c428-b6b7-4a5c-94c3-82b085b97dca",
   "metadata": {},
   "outputs": [],
   "source": [
    "v := 2\n",
    "\n",
    "v++\n",
    "\n",
    "// ++v // not supported\n",
    "\n",
    "\n",
    "// nv := v++  // v++ is statement not an expression"
   ]
  },
  {
   "cell_type": "markdown",
   "id": "6df31d9f-fffd-4e6d-92e6-0c5b881643d7",
   "metadata": {},
   "source": [
    "##### Tuple assignment"
   ]
  },
  {
   "cell_type": "code",
   "execution_count": 23,
   "id": "1565b078-ddac-4fdf-bc2d-032e71297fcc",
   "metadata": {},
   "outputs": [
    {
     "name": "stdout",
     "output_type": "stream",
     "text": [
      "4 3\n"
     ]
    },
    {
     "data": {
      "text/plain": [
       "4 <nil>"
      ]
     },
     "execution_count": 23,
     "metadata": {},
     "output_type": "execute_result"
    }
   ],
   "source": [
    "// Swapping\n",
    "\n",
    "a,b := 3,4\n",
    "\n",
    "b,a = a,b\n",
    "\n",
    "fmt.Println(a,b) // swapped"
   ]
  },
  {
   "cell_type": "code",
   "execution_count": 24,
   "id": "92777474-9db8-4de6-a967-309d6f94b50d",
   "metadata": {},
   "outputs": [
    {
     "name": "stdout",
     "output_type": "stream",
     "text": [
      "hello5 <nil>\n"
     ]
    },
    {
     "data": {
      "text/plain": [
       "8 <nil>"
      ]
     },
     "execution_count": 24,
     "metadata": {},
     "output_type": "execute_result"
    }
   ],
   "source": [
    "bytesWritten,err = fmt.Printf(\"hello\")\n",
    "\n",
    "fmt.Println(bytesWritten,err)"
   ]
  },
  {
   "cell_type": "markdown",
   "id": "eafb9241-f6a4-4f77-bfac-bbacea2ea9c5",
   "metadata": {},
   "source": [
    "#### Type definitions"
   ]
  },
  {
   "cell_type": "code",
   "execution_count": 25,
   "id": "6cb72919-de28-4f58-a525-59035df2c7ae",
   "metadata": {},
   "outputs": [
    {
     "name": "stdout",
     "output_type": "stream",
     "text": [
      "illiteracy percent 54.33\n",
      "Maximum percent:  100\n",
      "Probabilty of a person to be literate:  0.4567\n",
      "1\n"
     ]
    },
    {
     "data": {
      "text/plain": [
       "2 <nil>"
      ]
     },
     "execution_count": 25,
     "metadata": {},
     "output_type": "execute_result"
    }
   ],
   "source": [
    "// These are like C typedefs , user defined types over system types\n",
    "\n",
    "// Convinience for defining long complex types, no need to write it again and again everywhere\n",
    "// Can be used to implement toString like customization methods \n",
    "\n",
    "type Percent float64\n",
    "type Probability float64\n",
    "\n",
    "var literacy Percent = 45.67\n",
    "var maxProbability Probability = 1.0\n",
    "\n",
    "// illiteracy = maxProbability - literacy // mismatched types in binary operation + between <main.Percent> and <main.Probability>: literacy + maxProbability\n",
    "\n",
    "fmt.Println(\"illiteracy percent\",Percent(maxProbability)*100 - literacy) // Percent(value) is converter (value doesn't change only type changes)\n",
    "\n",
    "// illiteracy = maxProbability // incompatible types in assignment: main.Percent = main.Probability\n",
    "\n",
    "func toPercent(pro Probability) Percent{\n",
    "    return Percent(pro * 100.0) // This is a converter from probability to percent, value doesn't change\n",
    "}\n",
    "\n",
    "func toProbability(percent Percent) Probability{\n",
    "    return Probability(percent /100.0) // This is a converter from percent to probability, value doesn't change\n",
    "}\n",
    "\n",
    "fmt.Println(\"Maximum percent: \",toPercent(maxProbability))\n",
    "fmt.Println(\"Probabilty of a person to be literate: \",toProbability(literacy))\n",
    "\n",
    "fmt.Println(Probability(0.4) + Probability(0.2) + 0.4) // intra type operations and with the system type are allowed"
   ]
  },
  {
   "cell_type": "markdown",
   "id": "8016c6f3-5c69-4b78-a4e7-b2cf8cf3a047",
   "metadata": {},
   "source": [
    "##### Init order for package level declaration"
   ]
  },
  {
   "cell_type": "markdown",
   "id": "6cab4cb2-985c-48f8-9a42-e5a188af29cf",
   "metadata": {},
   "source": [
    "package level declarations can be in any sequence, compiler resolves them according to the dependenchy"
   ]
  },
  {
   "cell_type": "code",
   "execution_count": 26,
   "id": "5d72e6ff-31a0-40e5-85c6-8e60a0e14c46",
   "metadata": {},
   "outputs": [
    {
     "name": "stdout",
     "output_type": "stream",
     "text": [
      "1 2 3\n"
     ]
    },
    {
     "data": {
      "text/plain": [
       "6 <nil>"
      ]
     },
     "execution_count": 26,
     "metadata": {},
     "output_type": "execute_result"
    }
   ],
   "source": [
    "var three = two + 1\n",
    "var two = getTwo()\n",
    "var one = 1\n",
    "\n",
    "func getTwo() int {\n",
    "\treturn one + 1\n",
    "}\n",
    "\n",
    "fmt.Println(one,two,three)"
   ]
  },
  {
   "cell_type": "code",
   "execution_count": 37,
   "id": "dafce251-fe81-4905-9121-52bbcbcd4567",
   "metadata": {},
   "outputs": [
    {
     "name": "stdout",
     "output_type": "stream",
     "text": [
      "0\n",
      "1\n",
      "2\n",
      "3\n",
      "4\n",
      "5\n",
      "6\n",
      "7\n",
      "8\n",
      "9\n"
     ]
    }
   ],
   "source": [
    "for i:=0;i<10;i++{ // is only available in condition, post and the enclosing block\n",
    "    j := 1 // This is not visible in the condition, so i=i+j won't work\n",
    "    fmt.Println(i) // i is visible inside the for block\n",
    "}\n",
    "\n",
    "// fmt.Println(i) // i is not available because it was in a scope surrounding the for's block"
   ]
  },
  {
   "cell_type": "markdown",
   "id": "922e101c-6883-4ea2-bc3c-30f2fce08346",
   "metadata": {},
   "source": [
    "##### Note that func init(){} can be defined multiple times in a go package and every instance of it will be executed, it is not working in Jupytor notes."
   ]
  },
  {
   "cell_type": "code",
   "execution_count": null,
   "id": "ae0c062c-fb80-4a4a-a919-b17d5ec81cd7",
   "metadata": {},
   "outputs": [],
   "source": []
  }
 ],
 "metadata": {
  "kernelspec": {
   "display_name": "Go",
   "language": "go",
   "name": "gophernotes"
  },
  "language_info": {
   "codemirror_mode": "",
   "file_extension": ".go",
   "mimetype": "",
   "name": "go",
   "nbconvert_exporter": "",
   "pygments_lexer": "",
   "version": "go1.15.6"
  }
 },
 "nbformat": 4,
 "nbformat_minor": 5
}
