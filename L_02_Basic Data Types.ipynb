{
 "cells": [
  {
   "cell_type": "code",
   "execution_count": 1,
   "id": "7ae3117f-1aee-4244-a305-c365e5df0303",
   "metadata": {},
   "outputs": [],
   "source": [
    "import \"fmt\""
   ]
  },
  {
   "cell_type": "markdown",
   "id": "12a103be-975c-4c77-8cc3-0e33160d0960",
   "metadata": {},
   "source": [
    "#### uint"
   ]
  },
  {
   "cell_type": "code",
   "execution_count": 2,
   "id": "3c56d55b-3b10-43f2-981a-deedb8d356b9",
   "metadata": {},
   "outputs": [],
   "source": [
    "var unsignedInt uint8 = 255"
   ]
  },
  {
   "cell_type": "code",
   "execution_count": 3,
   "id": "dd03519c-fab8-47a5-a6de-11bee7d164df",
   "metadata": {},
   "outputs": [
    {
     "name": "stdout",
     "output_type": "stream",
     "text": [
      "255 0 1\n"
     ]
    },
    {
     "data": {
      "text/plain": [
       "8 <nil>"
      ]
     },
     "execution_count": 3,
     "metadata": {},
     "output_type": "execute_result"
    }
   ],
   "source": [
    "fmt.Println(unsignedInt,unsignedInt+1,unsignedInt*unsignedInt)"
   ]
  },
  {
   "cell_type": "markdown",
   "id": "0ce03dc1-5c93-40a8-b644-d89eb7201a16",
   "metadata": {},
   "source": [
    "##### Note : don't use unsigned numbers for even quantities which may never be negative, because they roll-over to only positive number, i=0; i-- will become 255 not -1 and i>=0 would never be satisfied."
   ]
  },
  {
   "cell_type": "code",
   "execution_count": 4,
   "id": "6c8a9ba1-5303-4e73-9c14-82e1e987ea04",
   "metadata": {},
   "outputs": [
    {
     "name": "stdout",
     "output_type": "stream",
     "text": [
      "45398\n"
     ]
    },
    {
     "data": {
      "text/plain": [
       "6 <nil>"
      ]
     },
     "execution_count": 4,
     "metadata": {},
     "output_type": "execute_result"
    }
   ],
   "source": [
    "var unsignedInt8 uint8 = 34\n",
    "var unsignedInt16 uint16 = 45364\n",
    "// fmt.Println(unsignedInt8+unsignedInt16) // mismatched types in binary operation + between <uint8> and <uint16>\n",
    "fmt.Println(int(unsignedInt8)+int(unsignedInt16)) // <type>(number) is converter\n",
    "// fmt.Println(uint8(45364))  // constant 45364 overflows <uint8>"
   ]
  },
  {
   "cell_type": "markdown",
   "id": "e3c8c52a-01c5-4504-9a64-285c99a4fa21",
   "metadata": {},
   "source": [
    "##### Note: unlike C, bool cannot be assigned to other types."
   ]
  },
  {
   "cell_type": "code",
   "execution_count": 5,
   "id": "5c79a4c1-6b0c-42b7-a6fe-066cd78ac4f9",
   "metadata": {},
   "outputs": [],
   "source": [
    "// var b bool = 1"
   ]
  },
  {
   "cell_type": "markdown",
   "id": "2fa6e517-3b71-42b8-9264-a2fedb9ab2aa",
   "metadata": {},
   "source": [
    "### string"
   ]
  },
  {
   "cell_type": "code",
   "execution_count": 6,
   "id": "daad49ed-c19d-47d8-90bc-a458958657bb",
   "metadata": {},
   "outputs": [
    {
     "name": "stdout",
     "output_type": "stream",
     "text": [
      "ԓԔ\n"
     ]
    },
    {
     "data": {
      "text/plain": [
       "5 <nil>"
      ]
     },
     "execution_count": 6,
     "metadata": {},
     "output_type": "execute_result"
    }
   ],
   "source": [
    "s := \"\\u0513\\u0514\"\n",
    "fmt.Println(s) \n",
    "\n"
   ]
  },
  {
   "cell_type": "code",
   "execution_count": 7,
   "id": "e4326fe6-29f5-4125-a80a-77a49c7ebc8b",
   "metadata": {},
   "outputs": [
    {
     "name": "stdout",
     "output_type": "stream",
     "text": [
      "212  11010100\n",
      "147  10010011\n",
      "212  11010100\n",
      "148  10010100\n"
     ]
    }
   ],
   "source": [
    "for i:=0;i<len(s);i++{\n",
    "    // index prints the code points\n",
    "    fmt.Printf(\"%d % b\\n\",s[i],s[i])\n",
    "}"
   ]
  },
  {
   "cell_type": "code",
   "execution_count": 8,
   "id": "e9a07d3b-5a4c-451a-9711-c305fb8afb4e",
   "metadata": {},
   "outputs": [
    {
     "name": "stdout",
     "output_type": "stream",
     "text": [
      "10100010011 1299 ԓ\n",
      "10100010100 1300 Ԕ\n"
     ]
    }
   ],
   "source": [
    "for _,c := range s{\n",
    "    // range automatically gives the converted rune value (character value)\n",
    "    fmt.Printf(\"%b %d %c\\n\",c,c,c)\n",
    "}"
   ]
  },
  {
   "cell_type": "markdown",
   "id": "4382e536-39de-4630-9888-f7c6d6761a83",
   "metadata": {},
   "source": [
    "### string to other types conversions"
   ]
  },
  {
   "cell_type": "code",
   "execution_count": 9,
   "id": "289d2793-ddf0-466a-a815-d041e9438b6a",
   "metadata": {},
   "outputs": [],
   "source": [
    "import \"strconv\""
   ]
  },
  {
   "cell_type": "code",
   "execution_count": 10,
   "id": "7bc0f302-c3e7-4212-8ebd-26eb991c6a65",
   "metadata": {},
   "outputs": [
    {
     "name": "stdout",
     "output_type": "stream",
     "text": [
      "123\n"
     ]
    },
    {
     "data": {
      "text/plain": [
       "4 <nil>"
      ]
     },
     "execution_count": 10,
     "metadata": {},
     "output_type": "execute_result"
    }
   ],
   "source": [
    "i := 123\n",
    "\n",
    "a := strconv.Itoa(i)\n",
    "\n",
    "fmt.Println(a)"
   ]
  },
  {
   "cell_type": "markdown",
   "id": "7a8eae64-e2de-4b40-a7b1-466f191da592",
   "metadata": {},
   "source": [
    "##### Note: Sprintf can be used without strconv and with better formatting support"
   ]
  },
  {
   "cell_type": "code",
   "execution_count": 11,
   "id": "b000d211-2491-40b6-8504-3a3dfbf5c9f5",
   "metadata": {},
   "outputs": [
    {
     "name": "stdout",
     "output_type": "stream",
     "text": [
      "123\n",
      "1111011\n"
     ]
    },
    {
     "data": {
      "text/plain": [
       "8 <nil>"
      ]
     },
     "execution_count": 11,
     "metadata": {},
     "output_type": "execute_result"
    }
   ],
   "source": [
    "a = fmt.Sprintf(\"%d\",i)\n",
    "\n",
    "fmt.Println(a)\n",
    "\n",
    "b:= fmt.Sprintf(\"%b\",i)\n",
    "\n",
    "fmt.Println(b)"
   ]
  },
  {
   "cell_type": "markdown",
   "id": "8fb8e23d-e718-4f18-81ce-c691b2fd1b37",
   "metadata": {},
   "source": [
    "#### from other types to string"
   ]
  },
  {
   "cell_type": "code",
   "execution_count": 12,
   "id": "f7444c72-08d2-4ecb-9ade-75c9d2d3d4d8",
   "metadata": {},
   "outputs": [
    {
     "name": "stdout",
     "output_type": "stream",
     "text": [
      "46\n"
     ]
    },
    {
     "data": {
      "text/plain": [
       "3 <nil>"
      ]
     },
     "execution_count": 12,
     "metadata": {},
     "output_type": "execute_result"
    }
   ],
   "source": [
    "i,_ := strconv.Atoi(\"45\")\n",
    "\n",
    "fmt.Println(i+1)"
   ]
  },
  {
   "cell_type": "code",
   "execution_count": 13,
   "id": "34fcc86a-aff5-45cc-ac24-6f0317da097f",
   "metadata": {},
   "outputs": [
    {
     "name": "stdout",
     "output_type": "stream",
     "text": [
      "strconv.Atoi: parsing \"abcd\": invalid syntax\n"
     ]
    },
    {
     "data": {
      "text/plain": [
       "45 <nil>"
      ]
     },
     "execution_count": 13,
     "metadata": {},
     "output_type": "execute_result"
    }
   ],
   "source": [
    "_,err := strconv.Atoi(\"abcd\")\n",
    "\n",
    "fmt.Println(err)"
   ]
  },
  {
   "cell_type": "markdown",
   "id": "3a0d6e54-a769-46ed-ade4-5b46a481b5f4",
   "metadata": {},
   "source": [
    "### Constants"
   ]
  },
  {
   "cell_type": "code",
   "execution_count": 14,
   "id": "6ebbb5d6-4747-400b-89fd-e2953e9ae0a6",
   "metadata": {},
   "outputs": [],
   "source": [
    "const constant = 45"
   ]
  },
  {
   "cell_type": "code",
   "execution_count": 15,
   "id": "4c3f43a8-9033-4e7c-877b-b45576edb03f",
   "metadata": {},
   "outputs": [],
   "source": [
    "// Mutliple constant in a single expression\n",
    "const(\n",
    "    one = 1\n",
    "    two = 2\n",
    "    three = one+two\n",
    ")"
   ]
  },
  {
   "cell_type": "code",
   "execution_count": 16,
   "id": "8038a866-6c69-4dbb-a966-0fdba97f7101",
   "metadata": {},
   "outputs": [
    {
     "name": "stdout",
     "output_type": "stream",
     "text": [
      "3\n"
     ]
    },
    {
     "data": {
      "text/plain": [
       "2 <nil>"
      ]
     },
     "execution_count": 16,
     "metadata": {},
     "output_type": "execute_result"
    }
   ],
   "source": [
    "fmt.Println(three)"
   ]
  },
  {
   "cell_type": "code",
   "execution_count": 17,
   "id": "56159ef6-6e12-46c9-9818-2d20b507047d",
   "metadata": {},
   "outputs": [
    {
     "name": "stdout",
     "output_type": "stream",
     "text": [
      "31 31\n"
     ]
    },
    {
     "data": {
      "text/plain": [
       "6 <nil>"
      ]
     },
     "execution_count": 17,
     "metadata": {},
     "output_type": "execute_result"
    }
   ],
   "source": [
    "const(\n",
    "    jan = 31\n",
    "    january  // value same as previously defined constant\n",
    "    feb = 28\n",
    "    february\n",
    ")\n",
    "\n",
    "fmt.Println(jan,january)"
   ]
  },
  {
   "cell_type": "markdown",
   "id": "6934b070-aaba-47c0-8cb6-157f22ac3c9e",
   "metadata": {},
   "source": [
    "#### iota : kind of formula to define series of constants"
   ]
  },
  {
   "cell_type": "code",
   "execution_count": 28,
   "id": "21ffcb56-bce8-480f-a4f3-d611166fa85f",
   "metadata": {},
   "outputs": [
    {
     "name": "stdout",
     "output_type": "stream",
     "text": [
      "5\n"
     ]
    },
    {
     "data": {
      "text/plain": [
       "2 <nil>"
      ]
     },
     "execution_count": 28,
     "metadata": {},
     "output_type": "execute_result"
    }
   ],
   "source": [
    "const(\n",
    "    Sunday = iota // start with 0 and increament by 1 for every value\n",
    "    Monday\n",
    "    Tuesday\n",
    "    Wednesday\n",
    "    Thursday\n",
    "    Friday\n",
    "    Saturday\n",
    ")\n",
    "\n",
    "fmt.Println(Friday)"
   ]
  },
  {
   "cell_type": "code",
   "execution_count": 27,
   "id": "22818f09-11c6-4a60-bbef-52e2697a1b46",
   "metadata": {},
   "outputs": [
    {
     "name": "stdout",
     "output_type": "stream",
     "text": [
      "5\n"
     ]
    },
    {
     "data": {
      "text/plain": [
       "2 <nil>"
      ]
     },
     "execution_count": 27,
     "metadata": {},
     "output_type": "execute_result"
    }
   ],
   "source": []
  },
  {
   "cell_type": "code",
   "execution_count": 26,
   "id": "acb0609e-8d4f-401e-891c-4edad1362946",
   "metadata": {},
   "outputs": [
    {
     "name": "stdout",
     "output_type": "stream",
     "text": [
      "6\n"
     ]
    },
    {
     "data": {
      "text/plain": [
       "2 <nil>"
      ]
     },
     "execution_count": 26,
     "metadata": {},
     "output_type": "execute_result"
    }
   ],
   "source": [
    "const(\n",
    "    Single = 2*(iota+1)\n",
    "    Double\n",
    "    Triple\n",
    ")\n",
    "\n",
    "fmt.Println(Triple)"
   ]
  },
  {
   "cell_type": "code",
   "execution_count": null,
   "id": "60b21e85-d2f8-4fa5-beac-80ea71e764cd",
   "metadata": {},
   "outputs": [],
   "source": []
  }
 ],
 "metadata": {
  "kernelspec": {
   "display_name": "Go",
   "language": "go",
   "name": "gophernotes"
  },
  "language_info": {
   "codemirror_mode": "",
   "file_extension": ".go",
   "mimetype": "",
   "name": "go",
   "nbconvert_exporter": "",
   "pygments_lexer": "",
   "version": "go1.15.6"
  }
 },
 "nbformat": 4,
 "nbformat_minor": 5
}
